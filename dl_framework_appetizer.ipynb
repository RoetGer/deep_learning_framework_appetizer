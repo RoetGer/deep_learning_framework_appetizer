{
  "nbformat": 4,
  "nbformat_minor": 0,
  "metadata": {
    "colab": {
      "name": "dl_framework_appetizer.ipynb",
      "provenance": [],
      "collapsed_sections": [],
      "authorship_tag": "ABX9TyM1qex/d8sZAQ9LDg1YyEa3",
      "include_colab_link": true
    },
    "kernelspec": {
      "name": "python3",
      "display_name": "Python 3"
    },
    "accelerator": "GPU"
  },
  "cells": [
    {
      "cell_type": "markdown",
      "metadata": {
        "id": "view-in-github",
        "colab_type": "text"
      },
      "source": [
        "<a href=\"https://colab.research.google.com/github/RoetGer/deep_learning_framework_appetizer/blob/main/dl_framework_appetizer.ipynb\" target=\"_parent\"><img src=\"https://colab.research.google.com/assets/colab-badge.svg\" alt=\"Open In Colab\"/></a>"
      ]
    },
    {
      "cell_type": "markdown",
      "metadata": {
        "id": "dj-NWTr4J-ef"
      },
      "source": [
        "# An Appetizer for Deep Learning Frameworks (Keras, TF, PyTorch & Co)\n",
        "\n"
      ]
    },
    {
      "cell_type": "markdown",
      "metadata": {
        "id": "rVTQs4kbkV9-"
      },
      "source": [
        "## Why should you care?\n",
        "\n",
        "The core selling points of DL frameworks are:\n",
        "\n",
        "- Flexibility \n",
        "- Ease of use "
      ]
    },
    {
      "cell_type": "markdown",
      "metadata": {
        "id": "yvxcM0ESk-kX"
      },
      "source": [
        "## What can you expect from this presentation?\n",
        "\n",
        "- A demonstration of what these frameworks are capable of.\n",
        "- The frameworks and the possibilities which come with them are huge, i.e. we\n",
        "will only cover a fraction of them.\n",
        "- The aim of this presentation is to spark interest in learning one of the frameworks, not turn you into a professional user!\n"
      ]
    },
    {
      "cell_type": "markdown",
      "metadata": {
        "id": "nCnO2MaFk-vH"
      },
      "source": [
        "## A quick introduction into Tensorflow 2.0\n",
        "\n",
        "Most of the frameworks are basically \"plug-in\" replacements for numpy"
      ]
    },
    {
      "cell_type": "code",
      "metadata": {
        "id": "R1m1JXOsJUCl",
        "colab": {
          "base_uri": "https://localhost:8080/"
        },
        "outputId": "f7e4d680-832b-41b8-e7ae-5f1922b2accd"
      },
      "source": [
        "import tensorflow as tf\n",
        "import tensorflow_probability as tfp\n",
        "\n",
        "tfl = tf.linalg\n",
        "\n",
        "print(tf.__version__)"
      ],
      "execution_count": null,
      "outputs": [
        {
          "output_type": "stream",
          "text": [
            "2.3.0\n"
          ],
          "name": "stdout"
        }
      ]
    },
    {
      "cell_type": "code",
      "metadata": {
        "id": "KvqsZsbqJ6J_"
      },
      "source": [
        "# You can sample random variables\n",
        "X = tf.random.normal(shape=(10, 4))\n",
        "y = tf.random.normal(shape=(1, 10))"
      ],
      "execution_count": null,
      "outputs": []
    },
    {
      "cell_type": "code",
      "metadata": {
        "colab": {
          "base_uri": "https://localhost:8080/"
        },
        "id": "Sbp6isMU1cnt",
        "outputId": "2c242701-d7b5-4962-bbb1-ee4595a0c571"
      },
      "source": [
        "X"
      ],
      "execution_count": null,
      "outputs": [
        {
          "output_type": "execute_result",
          "data": {
            "text/plain": [
              "<tf.Tensor: shape=(10, 4), dtype=float32, numpy=\n",
              "array([[ 2.9997802e-01,  6.6795148e-02, -2.0081093e+00, -3.0193716e-01],\n",
              "       [-1.4067190e+00, -2.2354376e+00,  5.2987796e-01,  5.5395693e-01],\n",
              "       [-6.1793453e-01,  5.8786184e-01, -1.4413153e-01,  5.2614850e-01],\n",
              "       [ 8.4892249e-01,  1.4285388e+00, -1.8667804e+00, -2.1514452e-01],\n",
              "       [ 2.5285143e-01,  1.3683176e+00,  1.1197956e+00,  1.0769231e+00],\n",
              "       [ 7.4349618e-01,  1.7352816e+00,  1.1996388e+00,  1.1764905e+00],\n",
              "       [ 2.9218301e-01, -9.8305571e-01, -5.2672964e-01, -6.6858396e-02],\n",
              "       [-4.8412124e-04, -4.2379364e-01, -2.9578644e-01,  2.0964403e+00],\n",
              "       [ 7.9661018e-01, -2.0831103e+00,  1.3588391e-01, -2.7381501e+00],\n",
              "       [-6.4102340e-01,  7.0689106e-01,  7.6492846e-01, -1.2498299e+00]],\n",
              "      dtype=float32)>"
            ]
          },
          "metadata": {
            "tags": []
          },
          "execution_count": 6
        }
      ]
    },
    {
      "cell_type": "code",
      "metadata": {
        "colab": {
          "base_uri": "https://localhost:8080/"
        },
        "id": "1zv983EwQUMI",
        "outputId": "6973cffe-13d5-4287-c337-a3a4f2d4c889"
      },
      "source": [
        "# Do some simple linear algebra\n",
        "print(tf.matmul(y, X))\n",
        "\n",
        "# Or in short\n",
        "y @ X"
      ],
      "execution_count": null,
      "outputs": [
        {
          "output_type": "stream",
          "text": [
            "tf.Tensor([[-1.4530476 -4.028884  -4.6086655 -8.492169 ]], shape=(1, 4), dtype=float32)\n"
          ],
          "name": "stdout"
        },
        {
          "output_type": "execute_result",
          "data": {
            "text/plain": [
              "<tf.Tensor: shape=(1, 4), dtype=float32, numpy=array([[-1.4530476, -4.028884 , -4.6086655, -8.492169 ]], dtype=float32)>"
            ]
          },
          "metadata": {
            "tags": []
          },
          "execution_count": 7
        }
      ]
    },
    {
      "cell_type": "code",
      "metadata": {
        "id": "deftLRYGjuDz",
        "colab": {
          "base_uri": "https://localhost:8080/"
        },
        "outputId": "334e958d-7374-4d2e-eb2e-5d94dd549291"
      },
      "source": [
        "# Or more complicated linear algebra\n",
        "XtX = tf.matmul(X, X, transpose_a=True)\n",
        "tfl.cholesky(XtX)"
      ],
      "execution_count": null,
      "outputs": [
        {
          "output_type": "execute_result",
          "data": {
            "text/plain": [
              "<tf.Tensor: shape=(4, 4), dtype=float32, numpy=\n",
              "array([[ 2.21787   ,  0.        ,  0.        ,  0.        ],\n",
              "       [ 1.4656838 ,  4.013509  ,  0.        ,  0.        ],\n",
              "       [-0.9938571 ,  0.47372642,  3.2044249 ,  0.        ],\n",
              "       [-0.7354815 ,  1.8273778 ,  0.10401838,  3.5823257 ]],\n",
              "      dtype=float32)>"
            ]
          },
          "metadata": {
            "tags": []
          },
          "execution_count": 8
        }
      ]
    },
    {
      "cell_type": "markdown",
      "metadata": {
        "id": "KzoZL0y2Rqgo"
      },
      "source": [
        "None of these things are particularly special or impressive, numpy can do these things and more :)\n",
        "\n",
        "However, let's look at the following example what makes them amazing.\n",
        "\n",
        "## Example - Empirical Covariance Matrix"
      ]
    },
    {
      "cell_type": "code",
      "metadata": {
        "id": "KlXfh1aMR6Pr"
      },
      "source": [
        "n = 50\n",
        "dim = 4\n",
        "\n",
        "samples = tf.random.normal(shape=(n, dim))\n",
        "samples = samples - tf.reduce_mean(samples, axis=0)\n",
        "emp_cov_mat = tf.matmul(samples, samples, transpose_a=True)"
      ],
      "execution_count": null,
      "outputs": []
    },
    {
      "cell_type": "code",
      "metadata": {
        "id": "PICLjNJ5S-jS"
      },
      "source": [
        "def proj_psd_cone(X):\n",
        "  '''\n",
        "  Makes the matrix X positive semi-definite.\n",
        "\n",
        "  Returns projected matrix, eigen-values, eigen-vectors\n",
        "  '''\n",
        "  eig_vals, eig_vecs = tfl.eigh(X)\n",
        "\n",
        "  # Replace negative eigenvalues with 0.\n",
        "  eig_vals = tf.where(eig_vals < 0, 0.0, eig_vals)\n",
        "  \n",
        "  return [\n",
        "      eig_vecs @ tfl.diag(eig_vals) @ tf.transpose(eig_vecs),\n",
        "      eig_vals,\n",
        "      eig_vecs\n",
        "  ]\n",
        "\n",
        "\n",
        "def turn_vec_into_sym_mat(theta):\n",
        "  '''\n",
        "  Turns a vector into a symmetric matrix by interpreting the vector\n",
        "  as the lower triangular matrix of the final matrix.\n",
        "  '''\n",
        "  low_tri_mat = tfp.math.fill_triangular(theta)\n",
        "  \n",
        "  upper_tri_mat = tf.transpose(low_tri_mat)\n",
        "  upper_tri_mat = tfl.set_diag(upper_tri_mat, tf.zeros(low_tri_mat.shape[0]))\n",
        "  \n",
        "  full_mat = low_tri_mat + upper_tri_mat \n",
        "\n",
        "  return full_mat\n",
        "\n",
        "# 1,2,3\n",
        "\n",
        "# 1 0 \n",
        "# 2 3\n",
        "\n",
        "# 1 2\n",
        "# 2 3\n",
        "\n",
        "# xTKx >= 0 K is positive semidefinite\n",
        "# => eigenvalues >= 0\n",
        "\n",
        "@tf.function() # Tells Python/tensorflow to compile the computation graph\n",
        "def func_to_optimize(theta, Sigma, penalty):\n",
        "    \n",
        "  full_mat = turn_vec_into_sym_mat(theta)\n",
        "\n",
        "  full_mat, eig_vals, eig_vecs = proj_psd_cone(full_mat)\n",
        "\n",
        "  full_mat += (1e-6)*tfl.eye(full_mat.shape[0])\n",
        "\n",
        "  res = (\n",
        "       tfl.trace(tf.matmul(full_mat, Sigma)) \n",
        "       - tfl.logdet(full_mat)\n",
        "       + penalty * tf.reduce_sum(tf.abs(full_mat))\n",
        "       - penalty * tf.reduce_sum(tf.where(eig_vals < 0, eig_vals, 0))\n",
        "  )\n",
        "\n",
        "  return res"
      ],
      "execution_count": null,
      "outputs": []
    },
    {
      "cell_type": "code",
      "metadata": {
        "id": "fbSymlm-T2lu"
      },
      "source": [
        "\n",
        "theta = tf.Variable(tfp.math.fill_triangular_inverse(tf.eye(dim)))\n",
        "# -> Variable means, that the value can vary -> we can optimize with respect to\n",
        "# it later on.\n",
        "sparse_pen = 0.01"
      ],
      "execution_count": null,
      "outputs": []
    },
    {
      "cell_type": "code",
      "metadata": {
        "colab": {
          "base_uri": "https://localhost:8080/"
        },
        "id": "9wnhDMH234Xc",
        "outputId": "0109c195-40c3-4097-f2ab-c163ba615358"
      },
      "source": [
        "tf.eye(2)"
      ],
      "execution_count": null,
      "outputs": [
        {
          "output_type": "execute_result",
          "data": {
            "text/plain": [
              "<tf.Tensor: shape=(2, 2), dtype=float32, numpy=\n",
              "array([[1., 0.],\n",
              "       [0., 1.]], dtype=float32)>"
            ]
          },
          "metadata": {
            "tags": []
          },
          "execution_count": 12
        }
      ]
    },
    {
      "cell_type": "code",
      "metadata": {
        "colab": {
          "base_uri": "https://localhost:8080/"
        },
        "id": "CsJ9cdQ33pps",
        "outputId": "2424340f-d046-43b5-d016-0cb189df4d70"
      },
      "source": [
        "theta"
      ],
      "execution_count": null,
      "outputs": [
        {
          "output_type": "execute_result",
          "data": {
            "text/plain": [
              "<tf.Variable 'Variable:0' shape=(10,) dtype=float32, numpy=array([1., 0., 0., 0., 1., 1., 0., 0., 0., 1.], dtype=float32)>"
            ]
          },
          "metadata": {
            "tags": []
          },
          "execution_count": 20
        }
      ]
    },
    {
      "cell_type": "code",
      "metadata": {
        "colab": {
          "base_uri": "https://localhost:8080/"
        },
        "id": "a2yM2RYBUlG7",
        "outputId": "9642d2d0-ce82-4cc8-883d-73f829418939"
      },
      "source": [
        "func_to_optimize(theta, emp_cov_mat, sparse_pen)"
      ],
      "execution_count": null,
      "outputs": [
        {
          "output_type": "execute_result",
          "data": {
            "text/plain": [
              "<tf.Tensor: shape=(), dtype=float32, numpy=196.14638>"
            ]
          },
          "metadata": {
            "tags": []
          },
          "execution_count": 16
        }
      ]
    },
    {
      "cell_type": "markdown",
      "metadata": {
        "id": "A9aNeNYLZfho"
      },
      "source": [
        "Your task is now to minimize this function with respect to theta ..."
      ]
    },
    {
      "cell_type": "code",
      "metadata": {
        "colab": {
          "base_uri": "https://localhost:8080/"
        },
        "id": "3j6i3ei1ZlBX",
        "outputId": "1bafa542-683b-4e57-9d77-ddd7be14fce4"
      },
      "source": [
        "with tf.GradientTape() as tape:\n",
        "  value = func_to_optimize(theta, emp_cov_mat, sparse_pen)\n",
        "\n",
        "tape.gradient(value, theta)"
      ],
      "execution_count": null,
      "outputs": [
        {
          "output_type": "execute_result",
          "data": {
            "text/plain": [
              "<tf.Tensor: shape=(10,), dtype=float32, numpy=\n",
              "array([61.50865 ,  0.      ,  0.      ,  0.      , 40.395805, 32.07287 ,\n",
              "        0.      ,  0.      ,  0.      , 58.168873], dtype=float32)>"
            ]
          },
          "metadata": {
            "tags": []
          },
          "execution_count": 17
        }
      ]
    },
    {
      "cell_type": "markdown",
      "metadata": {
        "id": "Wu96sT7GapIF"
      },
      "source": [
        "Tensorflow provides us with gradients of this complicated function!"
      ]
    },
    {
      "cell_type": "code",
      "metadata": {
        "id": "E9IILdzvak9S",
        "colab": {
          "base_uri": "https://localhost:8080/"
        },
        "outputId": "391d82fd-a74f-4026-df75-05c9070d1cf1"
      },
      "source": [
        "# Optimizing with a bit of boilerplate code\n",
        "opt = tf.keras.optimizers.Adam()\n",
        "\n",
        "for i in range(100):\n",
        "  opt.minimize(lambda: func_to_optimize(theta, emp_cov_mat, sparse_pen), [theta])\n",
        "\n",
        "theta"
      ],
      "execution_count": null,
      "outputs": [
        {
          "output_type": "execute_result",
          "data": {
            "text/plain": [
              "<tf.Variable 'Variable:0' shape=(10,) dtype=float32, numpy=\n",
              "array([ 0.9000369 ,  0.093619  , -0.0942895 ,  0.09085264,  0.90016115,\n",
              "        0.9000709 , -0.09302635,  0.09350123,  0.08296271,  0.900056  ],\n",
              "      dtype=float32)>"
            ]
          },
          "metadata": {
            "tags": []
          },
          "execution_count": 21
        }
      ]
    },
    {
      "cell_type": "code",
      "metadata": {
        "id": "tN8ugIgibpNN"
      },
      "source": [
        "# Optimizing with more functionality\n",
        "from tensorflow_probability.python.optimizer.convergence_criteria import LossNotDecreasing\n",
        "\n",
        "trace_fn = lambda traceable_quantities: {\n",
        "  'loss': traceable_quantities.loss, \n",
        "  'theta': theta\n",
        "}\n",
        "\n",
        "opt = tfp.math.minimize(\n",
        "    lambda: func_to_optimize(theta, emp_cov_mat, penalty=sparse_pen),\n",
        "    num_steps=250, \n",
        "    optimizer=tf.keras.optimizers.Adam(learning_rate=0.001),\n",
        "    convergence_criterion=LossNotDecreasing(rtol=1e-4, window_size=25),\n",
        "    return_full_length_trace=False,\n",
        "    trace_fn=trace_fn)"
      ],
      "execution_count": null,
      "outputs": []
    },
    {
      "cell_type": "code",
      "metadata": {
        "colab": {
          "base_uri": "https://localhost:8080/"
        },
        "id": "UXeGUCEQ6Kp3",
        "outputId": "9810a539-c04d-432d-8f2a-866278cf9c66"
      },
      "source": [
        "opt[\"theta\"]"
      ],
      "execution_count": null,
      "outputs": [
        {
          "output_type": "execute_result",
          "data": {
            "text/plain": [
              "<tf.Tensor: shape=(250, 10), dtype=float32, numpy=\n",
              "array([[ 0.8990368 ,  0.09461903, -0.09528954, ...,  0.09450126,\n",
              "         0.08396274,  0.89905596],\n",
              "       [ 0.89803684,  0.09561904, -0.09628955, ...,  0.09550126,\n",
              "         0.08496264,  0.898056  ],\n",
              "       [ 0.89703685,  0.09661903, -0.09728953, ...,  0.09650124,\n",
              "         0.08596234,  0.897056  ],\n",
              "       ...,\n",
              "       [ 0.65344733,  0.34187528, -0.33328766, ...,  0.32878774,\n",
              "         0.02902675,  0.6537736 ],\n",
              "       [ 0.6524676 ,  0.34288633, -0.33416426, ...,  0.32961518,\n",
              "         0.02703207,  0.6527954 ],\n",
              "       [ 0.6514881 ,  0.34389752, -0.33503947, ...,  0.33044073,\n",
              "         0.02503313,  0.6518173 ]], dtype=float32)>"
            ]
          },
          "metadata": {
            "tags": []
          },
          "execution_count": 23
        }
      ]
    },
    {
      "cell_type": "markdown",
      "metadata": {
        "id": "Ad7EqJSeeBRK"
      },
      "source": [
        "We have acquired the ability to optimize function like the one above. \n",
        "But was it worth it???\n",
        "\n",
        "Q: First and foremost, what does the function actually trying to achieve, i.e. what should the optimal theta look like?\n",
        "\n",
        "1.   The inverse of the empirical covariance matrix (ECM).\n",
        "2.   A sparse precision matrix of the ECM.\n",
        "3.   A positive-semidefinite version of the ECM.\n",
        "4.   All of the above.\n",
        "5.   None of the above.\n",
        "\n",
        "Q: This means that the matrix shows us ...\n",
        "\n",
        "Q: What could be some potential use cases where this property could be helpful?"
      ]
    },
    {
      "cell_type": "markdown",
      "metadata": {
        "id": "LQpBN3SeiVAj"
      },
      "source": [
        "Getting gradients for (obscure) functions is amazing (particularly for high-dimensional problems), however, this was not the only reasons why these frameworks became so popular. Initially, an additional driver was there capabilities to run code easily on the GPU, e.g. "
      ]
    },
    {
      "cell_type": "code",
      "metadata": {
        "id": "tO3wXU8r91rt"
      },
      "source": [
        "theta.to(\"device\")"
      ],
      "execution_count": null,
      "outputs": []
    },
    {
      "cell_type": "code",
      "metadata": {
        "colab": {
          "base_uri": "https://localhost:8080/",
          "height": 35
        },
        "id": "Q-Gg3lrzY--z",
        "outputId": "a2ac81b2-85fe-4f6b-d367-a3007a33cd46"
      },
      "source": [
        "theta.device"
      ],
      "execution_count": null,
      "outputs": [
        {
          "output_type": "execute_result",
          "data": {
            "application/vnd.google.colaboratory.intrinsic+json": {
              "type": "string"
            },
            "text/plain": [
              "'/job:localhost/replica:0/task:0/device:GPU:0'"
            ]
          },
          "metadata": {
            "tags": []
          },
          "execution_count": 24
        }
      ]
    },
    {
      "cell_type": "code",
      "metadata": {
        "colab": {
          "base_uri": "https://localhost:8080/",
          "height": 35
        },
        "id": "tBbBrntIi-Yf",
        "outputId": "19f7b5c8-a23f-4781-e912-ffe613d909fd"
      },
      "source": [
        "# If you don't want to run stuff on the GPU, you can either switch it entirely, or just run it in a specific context\n",
        "\n",
        "with tf.device(\"/cpu:0\"):\n",
        "  a = tf.constant(2.)\n",
        "  b = tf.constant(3.)\n",
        "  c = a + b\n",
        "\n",
        "c.device"
      ],
      "execution_count": null,
      "outputs": [
        {
          "output_type": "execute_result",
          "data": {
            "application/vnd.google.colaboratory.intrinsic+json": {
              "type": "string"
            },
            "text/plain": [
              "'/job:localhost/replica:0/task:0/device:CPU:0'"
            ]
          },
          "metadata": {
            "tags": []
          },
          "execution_count": 25
        }
      ]
    },
    {
      "cell_type": "markdown",
      "metadata": {
        "id": "D8wh9RcDkFnO"
      },
      "source": [
        "In recent history, the various frameworks have also added support to run computations easily on a cluster or machines with multiples GPUs (or both). E.g. if our machine had multiple GPUs available:"
      ]
    },
    {
      "cell_type": "code",
      "metadata": {
        "id": "9-JUELETkmVe"
      },
      "source": [
        "dist = tf.distribute.MirroredStrategy()\n",
        "\n",
        "with dist.scope():\n",
        "  mdl = # Define a big model here\n",
        "  mdl.compile(...)\n",
        "\n",
        "mdl.fit(X, y, epochs=100)"
      ],
      "execution_count": null,
      "outputs": []
    },
    {
      "cell_type": "markdown",
      "metadata": {
        "id": "J9rLszdelfX-"
      },
      "source": [
        "Tensorflow will automatically mirror all the model parameters on the different GPUs. Each mirrored model will compute gradients independently from the other models, then they combine their different gradients and update their parameters."
      ]
    },
    {
      "cell_type": "markdown",
      "metadata": {
        "id": "DxV5ZdMBqT-q"
      },
      "source": [
        "### Example - Boston Housing Data\n",
        "\n",
        "Beyond these things that made Tensorflow and Co appealing in the first place, it got also very easy to build complex models thanks to the frameworks."
      ]
    },
    {
      "cell_type": "code",
      "metadata": {
        "id": "6UFotJwxqTMU",
        "colab": {
          "base_uri": "https://localhost:8080/"
        },
        "outputId": "e21b92ca-d6fe-4cb5-c4fc-802c33b3697c"
      },
      "source": [
        "from tensorflow.keras.datasets import boston_housing\n",
        "\n",
        "(Xtrain, ytrain), (Xtest, ytest) = boston_housing.load_data()"
      ],
      "execution_count": null,
      "outputs": [
        {
          "output_type": "stream",
          "text": [
            "Downloading data from https://storage.googleapis.com/tensorflow/tf-keras-datasets/boston_housing.npz\n",
            "57344/57026 [==============================] - 0s 0us/step\n"
          ],
          "name": "stdout"
        }
      ]
    },
    {
      "cell_type": "code",
      "metadata": {
        "id": "H5oy20sG_Xr2"
      },
      "source": [
        "import pandas as pd\n",
        "\n",
        "train = pd.read_csv(\"sample_data/california_housing_train.csv\") \n",
        "test = pd.read_csv(\"sample_data/california_housing_test.csv\")"
      ],
      "execution_count": null,
      "outputs": []
    },
    {
      "cell_type": "code",
      "metadata": {
        "id": "sa2R0MMl_tIb"
      },
      "source": [
        "Xtrain, ytrain = train.drop(columns=\"median_house_value\"), train.median_house_value\n",
        "Xtest, ytest = test.drop(columns=\"median_house_value\"), test.median_house_value"
      ],
      "execution_count": null,
      "outputs": []
    },
    {
      "cell_type": "code",
      "metadata": {
        "id": "X-3PzOFKrX8E"
      },
      "source": [
        "# Pro forma preprocessing :)\n",
        "from sklearn.preprocessing import StandardScaler\n",
        "\n",
        "ssc_x = StandardScaler()\n",
        "\n",
        "Xtrain = ssc_x.fit_transform(Xtrain)\n",
        "Xtest = ssc_x.transform(Xtest)\n",
        "\n",
        "# This one is important for later on.\n",
        "ssc_y = StandardScaler()\n",
        "ytrain = ssc_y.fit_transform(ytrain.values.reshape(-1,1))\n",
        "ytest = ssc_y.transform(ytest.values.reshape(-1,1))"
      ],
      "execution_count": null,
      "outputs": []
    },
    {
      "cell_type": "code",
      "metadata": {
        "id": "DyVwqc0CrX_A"
      },
      "source": [
        "from tensorflow.keras import Sequential\n",
        "from tensorflow.keras.layers import BatchNormalization, Dense, Dropout, ReLU"
      ],
      "execution_count": null,
      "outputs": []
    },
    {
      "cell_type": "code",
      "metadata": {
        "id": "P7w8ibJ4sUjP"
      },
      "source": [
        "mdl = Sequential([\n",
        "  Dropout(0.25)\n",
        "  , Dense(1000, activation=\"elu\", kernel_regularizer=\"l1\")\n",
        "  , BatchNormalization()\n",
        "  , Dropout(0.25)\n",
        "  , Dense(125, activation=\"elu\")\n",
        "  , BatchNormalization()\n",
        "  , Dropout(0.25)\n",
        "  , Dense(50, activation=\"elu\")\n",
        "  , BatchNormalization()\n",
        "  , Dropout(0.25)\n",
        "  , Dense(1)               \n",
        "])"
      ],
      "execution_count": null,
      "outputs": []
    },
    {
      "cell_type": "code",
      "metadata": {
        "id": "2a6AXtLutS4d"
      },
      "source": [
        "mdl.compile(loss=tf.keras.losses.mean_squared_error)"
      ],
      "execution_count": null,
      "outputs": []
    },
    {
      "cell_type": "code",
      "metadata": {
        "colab": {
          "base_uri": "https://localhost:8080/"
        },
        "id": "PFYkNTX5tYuq",
        "outputId": "9ec67325-b5ab-4dc0-9cd2-0b044b9f45e4"
      },
      "source": [
        "from tensorflow.keras.callbacks import EarlyStopping, ModelCheckpoint\n",
        "\n",
        "hist = mdl.fit(\n",
        "    x=Xtrain, \n",
        "    y=ytrain, \n",
        "    batch_size=32, \n",
        "    epochs=100, \n",
        "    validation_split=0.2,\n",
        "    callbacks=[\n",
        "      EarlyStopping(patience=20, restore_best_weights=True),\n",
        "      ModelCheckpoint(\"best_model.h5\", save_best_only=True)         \n",
        "    ])"
      ],
      "execution_count": null,
      "outputs": [
        {
          "output_type": "stream",
          "text": [
            "Epoch 1/100\n",
            "425/425 [==============================] - 2s 4ms/step - loss: 2.1471 - val_loss: 1.5561\n",
            "Epoch 2/100\n",
            "425/425 [==============================] - 2s 4ms/step - loss: 0.8675 - val_loss: 1.1832\n",
            "Epoch 3/100\n",
            "425/425 [==============================] - 2s 4ms/step - loss: 0.7233 - val_loss: 1.0197\n",
            "Epoch 4/100\n",
            "425/425 [==============================] - 2s 4ms/step - loss: 0.6808 - val_loss: 1.0155\n",
            "Epoch 5/100\n",
            "425/425 [==============================] - 1s 3ms/step - loss: 0.6799 - val_loss: 1.1414\n",
            "Epoch 6/100\n",
            "425/425 [==============================] - 2s 4ms/step - loss: 0.6572 - val_loss: 0.8195\n",
            "Epoch 7/100\n",
            "425/425 [==============================] - 1s 3ms/step - loss: 0.6602 - val_loss: 0.9501\n",
            "Epoch 8/100\n",
            "425/425 [==============================] - 2s 4ms/step - loss: 0.6490 - val_loss: 0.9929\n",
            "Epoch 9/100\n",
            "425/425 [==============================] - 1s 3ms/step - loss: 0.6436 - val_loss: 0.9216\n",
            "Epoch 10/100\n",
            "425/425 [==============================] - 1s 3ms/step - loss: 0.6419 - val_loss: 1.0651\n",
            "Epoch 11/100\n",
            "425/425 [==============================] - 1s 3ms/step - loss: 0.6270 - val_loss: 0.9796\n",
            "Epoch 12/100\n",
            "425/425 [==============================] - 2s 4ms/step - loss: 0.6395 - val_loss: 0.8449\n",
            "Epoch 13/100\n",
            "425/425 [==============================] - 2s 4ms/step - loss: 0.6333 - val_loss: 0.8269\n",
            "Epoch 14/100\n",
            "425/425 [==============================] - 2s 4ms/step - loss: 0.6231 - val_loss: 0.7642\n",
            "Epoch 15/100\n",
            "425/425 [==============================] - 2s 4ms/step - loss: 0.6376 - val_loss: 0.9141\n",
            "Epoch 16/100\n",
            "425/425 [==============================] - 1s 3ms/step - loss: 0.6283 - val_loss: 1.0496\n",
            "Epoch 17/100\n",
            "425/425 [==============================] - 2s 4ms/step - loss: 0.6210 - val_loss: 0.9358\n",
            "Epoch 18/100\n",
            "425/425 [==============================] - 2s 4ms/step - loss: 0.6253 - val_loss: 0.9690\n",
            "Epoch 19/100\n",
            "425/425 [==============================] - 1s 3ms/step - loss: 0.6201 - val_loss: 1.2325\n",
            "Epoch 20/100\n",
            "425/425 [==============================] - 2s 4ms/step - loss: 0.6220 - val_loss: 0.7483\n",
            "Epoch 21/100\n",
            "425/425 [==============================] - 2s 4ms/step - loss: 0.6137 - val_loss: 1.0095\n",
            "Epoch 22/100\n",
            "425/425 [==============================] - 1s 3ms/step - loss: 0.6224 - val_loss: 0.9932\n",
            "Epoch 23/100\n",
            "425/425 [==============================] - 1s 3ms/step - loss: 0.6082 - val_loss: 1.1622\n",
            "Epoch 24/100\n",
            "425/425 [==============================] - 2s 4ms/step - loss: 0.6211 - val_loss: 1.0003\n",
            "Epoch 25/100\n",
            "425/425 [==============================] - 2s 4ms/step - loss: 0.6020 - val_loss: 0.7729\n",
            "Epoch 26/100\n",
            "425/425 [==============================] - 2s 4ms/step - loss: 0.6048 - val_loss: 1.0196\n",
            "Epoch 27/100\n",
            "425/425 [==============================] - 2s 4ms/step - loss: 0.6209 - val_loss: 1.0063\n",
            "Epoch 28/100\n",
            "425/425 [==============================] - 2s 4ms/step - loss: 0.6119 - val_loss: 0.7361\n",
            "Epoch 29/100\n",
            "425/425 [==============================] - 2s 4ms/step - loss: 0.6053 - val_loss: 1.0383\n",
            "Epoch 30/100\n",
            "425/425 [==============================] - 2s 4ms/step - loss: 0.6045 - val_loss: 1.1520\n",
            "Epoch 31/100\n",
            "425/425 [==============================] - 2s 4ms/step - loss: 0.6035 - val_loss: 0.9469\n",
            "Epoch 32/100\n",
            "425/425 [==============================] - 2s 4ms/step - loss: 0.6109 - val_loss: 0.8793\n",
            "Epoch 33/100\n",
            "425/425 [==============================] - 2s 4ms/step - loss: 0.6035 - val_loss: 0.8913\n",
            "Epoch 34/100\n",
            "425/425 [==============================] - 2s 4ms/step - loss: 0.6076 - val_loss: 1.0431\n",
            "Epoch 35/100\n",
            "425/425 [==============================] - 1s 3ms/step - loss: 0.6066 - val_loss: 0.8110\n",
            "Epoch 36/100\n",
            "425/425 [==============================] - 1s 3ms/step - loss: 0.6099 - val_loss: 0.9646\n",
            "Epoch 37/100\n",
            "425/425 [==============================] - 2s 4ms/step - loss: 0.5954 - val_loss: 1.0865\n",
            "Epoch 38/100\n",
            "425/425 [==============================] - 1s 3ms/step - loss: 0.6040 - val_loss: 0.7688\n",
            "Epoch 39/100\n",
            "425/425 [==============================] - 1s 3ms/step - loss: 0.6009 - val_loss: 0.9357\n",
            "Epoch 40/100\n",
            "425/425 [==============================] - 1s 3ms/step - loss: 0.5923 - val_loss: 0.9859\n",
            "Epoch 41/100\n",
            "425/425 [==============================] - 2s 4ms/step - loss: 0.6104 - val_loss: 0.8645\n",
            "Epoch 42/100\n",
            "425/425 [==============================] - 1s 4ms/step - loss: 0.6071 - val_loss: 0.9998\n",
            "Epoch 43/100\n",
            "425/425 [==============================] - 2s 4ms/step - loss: 0.5847 - val_loss: 1.0774\n",
            "Epoch 44/100\n",
            "425/425 [==============================] - 1s 3ms/step - loss: 0.6024 - val_loss: 0.9113\n",
            "Epoch 45/100\n",
            "425/425 [==============================] - 1s 3ms/step - loss: 0.6000 - val_loss: 0.9771\n",
            "Epoch 46/100\n",
            "425/425 [==============================] - 2s 4ms/step - loss: 0.5938 - val_loss: 0.9094\n",
            "Epoch 47/100\n",
            "425/425 [==============================] - 1s 3ms/step - loss: 0.5922 - val_loss: 1.0311\n",
            "Epoch 48/100\n",
            "425/425 [==============================] - 2s 4ms/step - loss: 0.5976 - val_loss: 1.0561\n"
          ],
          "name": "stdout"
        }
      ]
    },
    {
      "cell_type": "code",
      "metadata": {
        "id": "NQpVi7SzbOMO"
      },
      "source": [
        "#inputs=model.inputs, outputs=model.layers[-2].output\n",
        "mdl2 = tf.keras.Model(inputs=mdl.inputs, outputs=mdl.layers[4].output)"
      ],
      "execution_count": null,
      "outputs": []
    },
    {
      "cell_type": "code",
      "metadata": {
        "id": "B_YEMs7LfHjo",
        "colab": {
          "base_uri": "https://localhost:8080/"
        },
        "outputId": "37e292cd-5310-402c-b6af-51ebeace6ffe"
      },
      "source": [
        "mdl2.summary()"
      ],
      "execution_count": null,
      "outputs": [
        {
          "output_type": "stream",
          "text": [
            "Model: \"functional_7\"\n",
            "_________________________________________________________________\n",
            "Layer (type)                 Output Shape              Param #   \n",
            "=================================================================\n",
            "dropout_input (InputLayer)   [(None, 8)]               0         \n",
            "_________________________________________________________________\n",
            "dropout (Dropout)            (None, 8)                 0         \n",
            "_________________________________________________________________\n",
            "dense (Dense)                (None, 1000)              9000      \n",
            "_________________________________________________________________\n",
            "batch_normalization (BatchNo (None, 1000)              4000      \n",
            "_________________________________________________________________\n",
            "dropout_1 (Dropout)          (None, 1000)              0         \n",
            "_________________________________________________________________\n",
            "dense_1 (Dense)              (None, 125)               125125    \n",
            "=================================================================\n",
            "Total params: 138,125\n",
            "Trainable params: 136,125\n",
            "Non-trainable params: 2,000\n",
            "_________________________________________________________________\n"
          ],
          "name": "stdout"
        }
      ]
    },
    {
      "cell_type": "code",
      "metadata": {
        "colab": {
          "base_uri": "https://localhost:8080/"
        },
        "id": "D2nu8DfbcWYM",
        "outputId": "95b1ac4f-fad8-4691-9408-618cf821b4ca"
      },
      "source": [
        "mdl2.layers"
      ],
      "execution_count": null,
      "outputs": [
        {
          "output_type": "execute_result",
          "data": {
            "text/plain": [
              "[]"
            ]
          },
          "metadata": {
            "tags": []
          },
          "execution_count": 21
        }
      ]
    },
    {
      "cell_type": "code",
      "metadata": {
        "id": "AN0p9ZWSbnHk"
      },
      "source": [
        "??tf.keras.Model"
      ],
      "execution_count": null,
      "outputs": []
    },
    {
      "cell_type": "markdown",
      "metadata": {
        "id": "EIoHyKYtzBcu"
      },
      "source": [
        "Q: Any ideas why the training loss is actually higher than the validation loss?"
      ]
    },
    {
      "cell_type": "code",
      "metadata": {
        "colab": {
          "base_uri": "https://localhost:8080/",
          "height": 655
        },
        "id": "GYDVObhiuNjX",
        "outputId": "d1a028ac-a50f-4a64-8d0b-bd961899bf93"
      },
      "source": [
        "from matplotlib import pyplot as plt\n",
        "from sklearn.metrics import mean_squared_error\n",
        "\n",
        "plt.rcParams.update({'font.size': 16})\n",
        "\n",
        "def plot_hist(hist, figsize=(15,10)):\n",
        "  plt.figure(figsize=figsize)\n",
        "  plt.plot(hist.history['loss'])\n",
        "  plt.plot(hist.history['val_loss'])\n",
        "  plt.title('Mean Squared Error')\n",
        "  plt.ylabel('Loss')\n",
        "  plt.xlabel('epoch')\n",
        "  plt.legend(['train', 'val'], loc='best')\n",
        "  plt.show()\n",
        "\n",
        "plot_hist(hist)\n",
        "print(\"NN:\", mean_squared_error(ytest, mdl.predict(Xtest)))"
      ],
      "execution_count": null,
      "outputs": [
        {
          "output_type": "display_data",
          "data": {
            "image/png": "[encoded data removed]",
            "text/plain": [
              "<Figure size 1080x720 with 1 Axes>"
            ]
          },
          "metadata": {
            "tags": [],
            "needs_background": "light"
          }
        },
        {
          "output_type": "stream",
          "text": [
            "NN: 0.43242753533589967\n"
          ],
          "name": "stdout"
        }
      ]
    },
    {
      "cell_type": "markdown",
      "metadata": {
        "id": "aJAAfgKPv6SS"
      },
      "source": [
        "Looks good, what about a challenger model?"
      ]
    },
    {
      "cell_type": "code",
      "metadata": {
        "colab": {
          "base_uri": "https://localhost:8080/"
        },
        "id": "DVjGK9qXv-Ij",
        "outputId": "3cf2c317-c38e-4bdd-a8e4-ef36cc0a23b4"
      },
      "source": [
        "from sklearn.ensemble import RandomForestRegressor\n",
        "\n",
        "rfr = RandomForestRegressor(\n",
        "    n_estimators=250,\n",
        "    max_leaf_nodes=16)\n",
        "\n",
        "rfr.fit(Xtrain, ytrain)\n",
        "\n",
        "print(\"RandomForest:\", mean_squared_error(ytest, rfr.predict(Xtest)))\n",
        "print(\"NN:\", mean_squared_error(ytest, mdl.predict(Xtest)))"
      ],
      "execution_count": null,
      "outputs": [
        {
          "output_type": "stream",
          "text": [
            "/usr/local/lib/python3.6/dist-packages/ipykernel_launcher.py:7: DataConversionWarning: A column-vector y was passed when a 1d array was expected. Please change the shape of y to (n_samples,), for example using ravel().\n",
            "  import sys\n"
          ],
          "name": "stderr"
        },
        {
          "output_type": "stream",
          "text": [
            "RandomForest: 0.37692267446695316\n",
            "NN: 0.43242753533589967\n"
          ],
          "name": "stdout"
        }
      ]
    },
    {
      "cell_type": "markdown",
      "metadata": {
        "id": "wF8qom0ewd1S"
      },
      "source": [
        "Well, seems like we are going to use the Random Forest model!\n",
        "\n",
        "But wait a second, Business is not so happy with the model, they don't want a model that optimizes the mean-squared error, but more something like this:"
      ]
    },
    {
      "cell_type": "code",
      "metadata": {
        "colab": {
          "base_uri": "https://localhost:8080/",
          "height": 615
        },
        "id": "iRqDIiwdw9KY",
        "outputId": "e8b1ab7e-f7d9-48bf-ff36-24035e5d2f65"
      },
      "source": [
        "def business_loss(y_true, y_pred):\n",
        "  '''\n",
        "  The loss business wants us to use, because overestimating the housing price\n",
        "  is way more critical than underestimating it!\n",
        "  '''\n",
        "  error = y_true - y_pred\n",
        "\n",
        "  lin_loss = tf.abs(error)\n",
        "  exp_loss = (tf.exp(tf.abs(error)) - 1)\n",
        "\n",
        "  return tf.where(error < 0.0, exp_loss, lin_loss)\n",
        "\n",
        "def mean_business_loss(y_true, y_pred):\n",
        "  bls = business_loss(y_true, y_pred)\n",
        "  return tf.reduce_mean(bls)\n",
        "\n",
        "# Ok, how does that look like\n",
        "\n",
        "x_vals = tf.linspace(-5, 5, num=500)\n",
        "err = business_loss(x_vals, tf.zeros_like(x_vals))\n",
        "\n",
        "plt.figure(figsize=(15,10))\n",
        "plt.plot(x_vals, err)\n",
        "plt.vlines(0.0, ymin=0, ymax=tf.reduce_max(err), colors=\"red\", linestyles=\"--\")"
      ],
      "execution_count": null,
      "outputs": [
        {
          "output_type": "execute_result",
          "data": {
            "text/plain": [
              "<matplotlib.collections.LineCollection at 0x7f1111f84630>"
            ]
          },
          "metadata": {
            "tags": []
          },
          "execution_count": 37
        },
        {
          "output_type": "display_data",
          "data": {
            "image/png": "[encoded data removed]",
            "text/plain": [
              "<Figure size 1080x720 with 1 Axes>"
            ]
          },
          "metadata": {
            "tags": [],
            "needs_background": "light"
          }
        }
      ]
    },
    {
      "cell_type": "markdown",
      "metadata": {
        "id": "DCv_Ph8Qxr1a"
      },
      "source": [
        "Ok, so how are our models performing under this new metric/loss\n",
        "\n",
        "Q: What is the difference between metric and loss?"
      ]
    },
    {
      "cell_type": "code",
      "metadata": {
        "colab": {
          "base_uri": "https://localhost:8080/"
        },
        "id": "ZK19r9wlxuM2",
        "outputId": "f009bf0c-9ecf-4ee9-bd22-460f63ecd47c"
      },
      "source": [
        "print(\"Random Forest:\", mean_business_loss(ytest, rfr.predict(Xtest)))\n",
        "print(\"NN:\", mean_business_loss(ytest, mdl.predict(Xtest)))"
      ],
      "execution_count": null,
      "outputs": [
        {
          "output_type": "stream",
          "text": [
            "Random Forest: tf.Tensor(1.6245153666147916, shape=(), dtype=float64)\n",
            "NN: tf.Tensor(0.590431953663324, shape=(), dtype=float64)\n"
          ],
          "name": "stdout"
        }
      ]
    },
    {
      "cell_type": "markdown",
      "metadata": {
        "id": "s33r0vJ8yMUs"
      },
      "source": [
        "Well, that is a nice surprise, our NN model is already better than the RF, but can we improve the results? Every dime counts!"
      ]
    },
    {
      "cell_type": "code",
      "metadata": {
        "colab": {
          "base_uri": "https://localhost:8080/"
        },
        "id": "44b0u3V7yql3",
        "outputId": "e9faf031-fdad-4197-d685-9a93c7c5d166"
      },
      "source": [
        "mdl.compile(\n",
        "    loss=business_loss, \n",
        "    metrics=[\"mean_absolute_percentage_error\"])\n",
        "\n",
        "# Interestingly, this training reuses the weights from the previous training,\n",
        "# if you have not overwritten the mdl variable with a new model definition.\n",
        "mdl.fit(\n",
        "    x=Xtrain, \n",
        "    y=ytrain, \n",
        "    batch_size=128, \n",
        "    epochs=100, \n",
        "    validation_split=0.2,\n",
        "    callbacks=[\n",
        "      EarlyStopping(patience=10, restore_best_weights=True),\n",
        "      ModelCheckpoint(\"best_model_bls.h5\", save_best_only=True)         \n",
        "    ])"
      ],
      "execution_count": null,
      "outputs": [
        {
          "output_type": "stream",
          "text": [
            "Epoch 1/100\n",
            "107/107 [==============================] - 1s 9ms/step - loss: 0.6766 - mean_absolute_percentage_error: 741.9594 - val_loss: 0.9514 - val_mean_absolute_percentage_error: 217.8079\n",
            "Epoch 2/100\n",
            "107/107 [==============================] - 1s 8ms/step - loss: 0.6444 - mean_absolute_percentage_error: 330.7390 - val_loss: 0.8509 - val_mean_absolute_percentage_error: 191.3712\n",
            "Epoch 3/100\n",
            "107/107 [==============================] - 1s 7ms/step - loss: 0.6429 - mean_absolute_percentage_error: 793.7183 - val_loss: 0.8753 - val_mean_absolute_percentage_error: 209.5631\n",
            "Epoch 4/100\n",
            "107/107 [==============================] - 1s 7ms/step - loss: 0.6383 - mean_absolute_percentage_error: 610.0640 - val_loss: 0.8865 - val_mean_absolute_percentage_error: 257.7312\n",
            "Epoch 5/100\n",
            "107/107 [==============================] - 1s 7ms/step - loss: 0.6421 - mean_absolute_percentage_error: 293.6042 - val_loss: 1.0124 - val_mean_absolute_percentage_error: 326.7119\n",
            "Epoch 6/100\n",
            "107/107 [==============================] - 1s 8ms/step - loss: 0.6363 - mean_absolute_percentage_error: 359.6342 - val_loss: 0.8271 - val_mean_absolute_percentage_error: 179.0930\n",
            "Epoch 7/100\n",
            "107/107 [==============================] - 1s 7ms/step - loss: 0.6327 - mean_absolute_percentage_error: 716.0976 - val_loss: 0.9062 - val_mean_absolute_percentage_error: 253.6585\n",
            "Epoch 8/100\n",
            "107/107 [==============================] - 1s 7ms/step - loss: 0.6422 - mean_absolute_percentage_error: 385.2038 - val_loss: 1.1302 - val_mean_absolute_percentage_error: 364.3093\n",
            "Epoch 9/100\n",
            "107/107 [==============================] - 1s 7ms/step - loss: 0.6346 - mean_absolute_percentage_error: 1338.9252 - val_loss: 0.9725 - val_mean_absolute_percentage_error: 272.6057\n",
            "Epoch 10/100\n",
            "107/107 [==============================] - 1s 8ms/step - loss: 0.6334 - mean_absolute_percentage_error: 593.0688 - val_loss: 0.8156 - val_mean_absolute_percentage_error: 204.6197\n",
            "Epoch 11/100\n",
            "107/107 [==============================] - 1s 7ms/step - loss: 0.6372 - mean_absolute_percentage_error: 469.2396 - val_loss: 0.8551 - val_mean_absolute_percentage_error: 204.3499\n",
            "Epoch 12/100\n",
            "107/107 [==============================] - 1s 7ms/step - loss: 0.6334 - mean_absolute_percentage_error: 931.3251 - val_loss: 1.0053 - val_mean_absolute_percentage_error: 321.2378\n",
            "Epoch 13/100\n",
            "107/107 [==============================] - 1s 7ms/step - loss: 0.6317 - mean_absolute_percentage_error: 505.1663 - val_loss: 0.8322 - val_mean_absolute_percentage_error: 211.5510\n",
            "Epoch 14/100\n",
            "107/107 [==============================] - 1s 7ms/step - loss: 0.6308 - mean_absolute_percentage_error: 633.5358 - val_loss: 0.8998 - val_mean_absolute_percentage_error: 263.6828\n",
            "Epoch 15/100\n",
            "107/107 [==============================] - 1s 7ms/step - loss: 0.6371 - mean_absolute_percentage_error: 465.4179 - val_loss: 0.9754 - val_mean_absolute_percentage_error: 272.4091\n",
            "Epoch 16/100\n",
            "107/107 [==============================] - 1s 7ms/step - loss: 0.6295 - mean_absolute_percentage_error: 1101.8354 - val_loss: 1.0480 - val_mean_absolute_percentage_error: 341.6161\n",
            "Epoch 17/100\n",
            "107/107 [==============================] - 1s 7ms/step - loss: 0.6297 - mean_absolute_percentage_error: 717.9777 - val_loss: 0.9793 - val_mean_absolute_percentage_error: 281.1482\n",
            "Epoch 18/100\n",
            "107/107 [==============================] - 1s 7ms/step - loss: 0.6318 - mean_absolute_percentage_error: 370.3478 - val_loss: 0.9229 - val_mean_absolute_percentage_error: 261.9792\n",
            "Epoch 19/100\n",
            "107/107 [==============================] - 1s 7ms/step - loss: 0.6289 - mean_absolute_percentage_error: 482.0621 - val_loss: 0.9103 - val_mean_absolute_percentage_error: 258.2480\n",
            "Epoch 20/100\n",
            "107/107 [==============================] - 1s 7ms/step - loss: 0.6303 - mean_absolute_percentage_error: 908.2159 - val_loss: 0.9324 - val_mean_absolute_percentage_error: 282.7460\n"
          ],
          "name": "stdout"
        },
        {
          "output_type": "execute_result",
          "data": {
            "text/plain": [
              "<tensorflow.python.keras.callbacks.History at 0x7f1111eb3eb8>"
            ]
          },
          "metadata": {
            "tags": []
          },
          "execution_count": 39
        }
      ]
    },
    {
      "cell_type": "code",
      "metadata": {
        "colab": {
          "base_uri": "https://localhost:8080/"
        },
        "id": "CncsYhGRzihQ",
        "outputId": "55efbbdb-621f-4674-9fe9-22b29db598f3"
      },
      "source": [
        "print(\"Random Forest:\", mean_business_loss(ytest, rfr.predict(Xtest)))\n",
        "print(\"NN:\", mean_business_loss(ytest, mdl.predict(Xtest)))"
      ],
      "execution_count": null,
      "outputs": [
        {
          "output_type": "stream",
          "text": [
            "Random Forest: tf.Tensor(1.6245153666147916, shape=(), dtype=float64)\n",
            "NN: tf.Tensor(0.5607875440601103, shape=(), dtype=float64)\n"
          ],
          "name": "stdout"
        }
      ]
    },
    {
      "cell_type": "markdown",
      "metadata": {
        "id": "1gjvPzIX0Vs3"
      },
      "source": [
        "In case that you do not believe my claim that tensorflow and pytorch are converging more and more: The same model definition in pytorch"
      ]
    },
    {
      "cell_type": "code",
      "metadata": {
        "id": "ASA5kjPY0H76"
      },
      "source": [
        "import torch\n",
        "import torch.nn as nn\n",
        "\n",
        "mdl_pyt = nn.Sequential(\n",
        "    nn.Dropout(0.25)\n",
        "    , nn.Linear(Xtrain.shape[1], 125)\n",
        "    , nn.ELU()\n",
        "    , nn.BatchNorm1d(125)\n",
        "    , nn.Dropout(0.25)\n",
        "    , nn.Linear(125, 50)\n",
        "    , nn.BatchNorm1d(50)\n",
        "    , nn.ELU()\n",
        "    , nn.Dropout(0.25)\n",
        "    , nn.Linear(50, 1)\n",
        ")"
      ],
      "execution_count": null,
      "outputs": []
    },
    {
      "cell_type": "code",
      "metadata": {
        "id": "CZH1Bfux07pF",
        "colab": {
          "base_uri": "https://localhost:8080/"
        },
        "outputId": "070ff8c9-5940-44fb-cba5-4e063fdf852b"
      },
      "source": [
        "mdl_pyt.eval()\n",
        "mdl_pyt(torch.FloatTensor(Xtrain))"
      ],
      "execution_count": null,
      "outputs": [
        {
          "output_type": "execute_result",
          "data": {
            "text/plain": [
              "tensor([[-0.0311],\n",
              "        [-0.1326],\n",
              "        [ 0.2578],\n",
              "        ...,\n",
              "        [ 0.2166],\n",
              "        [ 0.1845],\n",
              "        [ 0.3309]], grad_fn=<AddmmBackward>)"
            ]
          },
          "metadata": {
            "tags": []
          },
          "execution_count": 55
        }
      ]
    },
    {
      "cell_type": "code",
      "metadata": {
        "colab": {
          "base_uri": "https://localhost:8080/"
        },
        "id": "JdAvUOOgDldT",
        "outputId": "9626f304-d4b9-4ead-cafa-0797231ce7e3"
      },
      "source": [
        "mdl(Xtrain, training=True)"
      ],
      "execution_count": null,
      "outputs": [
        {
          "output_type": "execute_result",
          "data": {
            "text/plain": [
              "<tf.Tensor: shape=(17000, 1), dtype=float32, numpy=\n",
              "array([[-1.6473341],\n",
              "       [-1.2307119],\n",
              "       [-1.402904 ],\n",
              "       ...,\n",
              "       [-0.1330949],\n",
              "       [-1.1942316],\n",
              "       [-0.374106 ]], dtype=float32)>"
            ]
          },
          "metadata": {
            "tags": []
          },
          "execution_count": 58
        }
      ]
    },
    {
      "cell_type": "markdown",
      "metadata": {
        "id": "yyJQbRhK01qS"
      },
      "source": [
        "Q: Repeatedly executing the above code reveals a rather peculiar behaviour, what could be the reason for it?"
      ]
    },
    {
      "cell_type": "markdown",
      "metadata": {
        "id": "uNH1gWmY1oWU"
      },
      "source": [
        "### Example 3 - The Functional API\n",
        "\n",
        "Sequentially stacking different modules is nice, but what about if we want to use a model which is not sequentially organized? Functional API"
      ]
    },
    {
      "cell_type": "markdown",
      "metadata": {
        "id": "eQeenuyB2uX5"
      },
      "source": [
        "In the previous example, we have sent all the data through a complicated NN, but couldn't it be that some of the original variables are already fairly predictive and all this transforming actually costs us predictive power? Never forget, the RF was way better than the NN!"
      ]
    },
    {
      "cell_type": "code",
      "metadata": {
        "colab": {
          "base_uri": "https://localhost:8080/"
        },
        "id": "1M7WATZe5TZy",
        "outputId": "e67e453d-d8a5-4b06-aab5-ba121226bc72"
      },
      "source": [
        "mdl.summary()"
      ],
      "execution_count": null,
      "outputs": [
        {
          "output_type": "stream",
          "text": [
            "Model: \"sequential\"\n",
            "_________________________________________________________________\n",
            "Layer (type)                 Output Shape              Param #   \n",
            "=================================================================\n",
            "dropout (Dropout)            (None, 8)                 0         \n",
            "_________________________________________________________________\n",
            "dense (Dense)                (None, 1000)              9000      \n",
            "_________________________________________________________________\n",
            "batch_normalization (BatchNo (None, 1000)              4000      \n",
            "_________________________________________________________________\n",
            "dropout_1 (Dropout)          (None, 1000)              0         \n",
            "_________________________________________________________________\n",
            "dense_1 (Dense)              (None, 125)               125125    \n",
            "_________________________________________________________________\n",
            "batch_normalization_1 (Batch (None, 125)               500       \n",
            "_________________________________________________________________\n",
            "dropout_2 (Dropout)          (None, 125)               0         \n",
            "_________________________________________________________________\n",
            "dense_2 (Dense)              (None, 50)                6300      \n",
            "_________________________________________________________________\n",
            "batch_normalization_2 (Batch (None, 50)                200       \n",
            "_________________________________________________________________\n",
            "dropout_3 (Dropout)          (None, 50)                0         \n",
            "_________________________________________________________________\n",
            "dense_3 (Dense)              (None, 1)                 51        \n",
            "=================================================================\n",
            "Total params: 145,176\n",
            "Trainable params: 142,826\n",
            "Non-trainable params: 2,350\n",
            "_________________________________________________________________\n"
          ],
          "name": "stdout"
        }
      ]
    },
    {
      "cell_type": "code",
      "metadata": {
        "colab": {
          "base_uri": "https://localhost:8080/"
        },
        "id": "-B14Hycr7HSF",
        "outputId": "e10b3e65-a6e4-4b2c-ba49-9938f0b8d192"
      },
      "source": [
        "mdl.pop()\n",
        "mdl.summary()"
      ],
      "execution_count": null,
      "outputs": [
        {
          "output_type": "stream",
          "text": [
            "Model: \"sequential\"\n",
            "_________________________________________________________________\n",
            "Layer (type)                 Output Shape              Param #   \n",
            "=================================================================\n",
            "dropout (Dropout)            (None, 8)                 0         \n",
            "_________________________________________________________________\n",
            "dense (Dense)                (None, 1000)              9000      \n",
            "_________________________________________________________________\n",
            "batch_normalization (BatchNo (None, 1000)              4000      \n",
            "_________________________________________________________________\n",
            "dropout_1 (Dropout)          (None, 1000)              0         \n",
            "_________________________________________________________________\n",
            "dense_1 (Dense)              (None, 125)               125125    \n",
            "_________________________________________________________________\n",
            "batch_normalization_1 (Batch (None, 125)               500       \n",
            "_________________________________________________________________\n",
            "dropout_2 (Dropout)          (None, 125)               0         \n",
            "_________________________________________________________________\n",
            "dense_2 (Dense)              (None, 50)                6300      \n",
            "_________________________________________________________________\n",
            "batch_normalization_2 (Batch (None, 50)                200       \n",
            "_________________________________________________________________\n",
            "dropout_3 (Dropout)          (None, 50)                0         \n",
            "=================================================================\n",
            "Total params: 145,125\n",
            "Trainable params: 142,775\n",
            "Non-trainable params: 2,350\n",
            "_________________________________________________________________\n"
          ],
          "name": "stdout"
        }
      ]
    },
    {
      "cell_type": "code",
      "metadata": {
        "id": "N_f2lbjt00wI"
      },
      "source": [
        "from tensorflow.keras.models import Model\n",
        "from tensorflow.keras.layers import Input\n",
        "\n",
        "orig_data = Input(shape=Xtrain.shape[1], name=\"data\")\n",
        "deep_fts = mdl(orig_data)\n",
        "\n",
        "concat = tf.keras.layers.concatenate([deep_fts, orig_data])\n",
        "\n",
        "res = Dense(25, activation=\"elu\")(concat)\n",
        "res = Dense(1)(res)\n",
        "\n",
        "model = Model(\n",
        "    inputs=[orig_data],\n",
        "    outputs=[res])"
      ],
      "execution_count": null,
      "outputs": []
    },
    {
      "cell_type": "markdown",
      "metadata": {
        "id": "h_SM9MVtlHMA"
      },
      "source": [
        "As the term inputs and outputs imply, you can define multiple inputs and outputs. The outputs can have different loss functions and you would combine their losses via loss_weights-parameter in the model.compile step. "
      ]
    },
    {
      "cell_type": "code",
      "metadata": {
        "colab": {
          "base_uri": "https://localhost:8080/",
          "height": 1000
        },
        "id": "b007bIPp0IH7",
        "outputId": "aa2025c7-1696-4443-b18a-ce47a968723d"
      },
      "source": [
        "from tensorflow.keras.utils import plot_model\n",
        "\n",
        "plot_model(model, expand_nested=True)"
      ],
      "execution_count": null,
      "outputs": [
        {
          "output_type": "execute_result",
          "data": {
            "image/png": "[encoded data removed]",
            "text/plain": [
              "<IPython.core.display.Image object>"
            ]
          },
          "metadata": {
            "tags": []
          },
          "execution_count": 66
        }
      ]
    },
    {
      "cell_type": "code",
      "metadata": {
        "id": "WvhuZd1W8hDS"
      },
      "source": [
        "model.compile(\n",
        "    loss=\"mse\", \n",
        "    optimizer=tf.keras.optimizers.Adam())"
      ],
      "execution_count": null,
      "outputs": []
    },
    {
      "cell_type": "code",
      "metadata": {
        "colab": {
          "base_uri": "https://localhost:8080/"
        },
        "id": "gmSrE_L99E5R",
        "outputId": "2f21f9c8-1b31-4a58-ed82-3dd108fa5d63"
      },
      "source": [
        "hist = model.fit(\n",
        "    x=Xtrain, # If you have multiple ones: (Xtrain, Xtrain)\n",
        "    y=ytrain,\n",
        "    epochs=100,\n",
        "    batch_size=32,\n",
        "    validation_split=0.2,\n",
        "    callbacks=[\n",
        "      EarlyStopping(patience=25, restore_best_weights=True),\n",
        "      ModelCheckpoint(\"best_model_bls.h5\", save_best_only=True)         \n",
        "    ]\n",
        ")"
      ],
      "execution_count": null,
      "outputs": [
        {
          "output_type": "stream",
          "text": [
            "Epoch 1/100\n",
            "425/425 [==============================] - 2s 5ms/step - loss: 0.5601 - val_loss: 0.5642\n",
            "Epoch 2/100\n",
            "425/425 [==============================] - 2s 4ms/step - loss: 0.4137 - val_loss: 0.5009\n",
            "Epoch 3/100\n",
            "425/425 [==============================] - 2s 4ms/step - loss: 0.3947 - val_loss: 0.4546\n",
            "Epoch 4/100\n",
            "425/425 [==============================] - 2s 4ms/step - loss: 0.3856 - val_loss: 0.5437\n",
            "Epoch 5/100\n",
            "425/425 [==============================] - 2s 4ms/step - loss: 0.3787 - val_loss: 0.5309\n",
            "Epoch 6/100\n",
            "425/425 [==============================] - 2s 4ms/step - loss: 0.3618 - val_loss: 0.5966\n",
            "Epoch 7/100\n",
            "425/425 [==============================] - 2s 4ms/step - loss: 0.3650 - val_loss: 0.4335\n",
            "Epoch 8/100\n",
            "425/425 [==============================] - 2s 4ms/step - loss: 0.3473 - val_loss: 0.4235\n",
            "Epoch 9/100\n",
            "425/425 [==============================] - 2s 4ms/step - loss: 0.3470 - val_loss: 0.4928\n",
            "Epoch 10/100\n",
            "425/425 [==============================] - 2s 4ms/step - loss: 0.3407 - val_loss: 0.4886\n",
            "Epoch 11/100\n",
            "425/425 [==============================] - 2s 4ms/step - loss: 0.3392 - val_loss: 0.4879\n",
            "Epoch 12/100\n",
            "425/425 [==============================] - 2s 4ms/step - loss: 0.3350 - val_loss: 0.5434\n",
            "Epoch 13/100\n",
            "425/425 [==============================] - 2s 4ms/step - loss: 0.3303 - val_loss: 0.4645\n",
            "Epoch 14/100\n",
            "425/425 [==============================] - 2s 4ms/step - loss: 0.3254 - val_loss: 0.4802\n",
            "Epoch 15/100\n",
            "425/425 [==============================] - 2s 4ms/step - loss: 0.3263 - val_loss: 0.4680\n",
            "Epoch 16/100\n",
            "425/425 [==============================] - 2s 4ms/step - loss: 0.3274 - val_loss: 0.4571\n",
            "Epoch 17/100\n",
            "425/425 [==============================] - 2s 4ms/step - loss: 0.3214 - val_loss: 0.4545\n",
            "Epoch 18/100\n",
            "425/425 [==============================] - 2s 4ms/step - loss: 0.3163 - val_loss: 0.4493\n",
            "Epoch 19/100\n",
            "425/425 [==============================] - 2s 4ms/step - loss: 0.3148 - val_loss: 0.4921\n",
            "Epoch 20/100\n",
            "425/425 [==============================] - 2s 4ms/step - loss: 0.3159 - val_loss: 0.4756\n",
            "Epoch 21/100\n",
            "425/425 [==============================] - 2s 4ms/step - loss: 0.3179 - val_loss: 0.4916\n",
            "Epoch 22/100\n",
            "425/425 [==============================] - 2s 4ms/step - loss: 0.3076 - val_loss: 0.4381\n",
            "Epoch 23/100\n",
            "425/425 [==============================] - 2s 4ms/step - loss: 0.3118 - val_loss: 0.4984\n",
            "Epoch 24/100\n",
            "425/425 [==============================] - 2s 4ms/step - loss: 0.3171 - val_loss: 0.4428\n",
            "Epoch 25/100\n",
            "425/425 [==============================] - 2s 4ms/step - loss: 0.3011 - val_loss: 0.4782\n",
            "Epoch 26/100\n",
            "425/425 [==============================] - 2s 4ms/step - loss: 0.3007 - val_loss: 0.4594\n",
            "Epoch 27/100\n",
            "425/425 [==============================] - 2s 4ms/step - loss: 0.3036 - val_loss: 0.4499\n",
            "Epoch 28/100\n",
            "425/425 [==============================] - 2s 4ms/step - loss: 0.3012 - val_loss: 0.4541\n",
            "Epoch 29/100\n",
            "425/425 [==============================] - 2s 4ms/step - loss: 0.2975 - val_loss: 0.4780\n",
            "Epoch 30/100\n",
            "425/425 [==============================] - 2s 4ms/step - loss: 0.2974 - val_loss: 0.4331\n",
            "Epoch 31/100\n",
            "425/425 [==============================] - 2s 4ms/step - loss: 0.2958 - val_loss: 0.4409\n",
            "Epoch 32/100\n",
            "425/425 [==============================] - 2s 4ms/step - loss: 0.2955 - val_loss: 0.4448\n",
            "Epoch 33/100\n",
            "425/425 [==============================] - 2s 4ms/step - loss: 0.2940 - val_loss: 0.4490\n"
          ],
          "name": "stdout"
        }
      ]
    },
    {
      "cell_type": "code",
      "metadata": {
        "colab": {
          "base_uri": "https://localhost:8080/"
        },
        "id": "lNF4vJ349_98",
        "outputId": "3794e150-0b14-4641-b460-615af72f9d61"
      },
      "source": [
        "print(\"Random Forest:\", mean_business_loss(ytest, rfr.predict(Xtest)))\n",
        "print(\"NN:\", mean_business_loss(ytest, model.predict(Xtest)))"
      ],
      "execution_count": null,
      "outputs": [
        {
          "output_type": "stream",
          "text": [
            "Random Forest: tf.Tensor(1.6245153666147916, shape=(), dtype=float64)\n",
            "NN: tf.Tensor(0.4425990219098041, shape=(), dtype=float64)\n"
          ],
          "name": "stdout"
        }
      ]
    },
    {
      "cell_type": "markdown",
      "metadata": {
        "id": "gvXlu1QlVVG-"
      },
      "source": [
        "### Example - Bag of Transactions Models - Incomplete :(\n",
        "\n",
        "Let's say we want to develop a model which takes into account all the transactions of different customers and associates them with some target. E.g. the last 3 months of transactions and whether a customer was considered to be suspicious with respect to money laundering or fraud, or whether they have bought some product or churned, or whatever :)\n",
        "\n",
        "We could simply use aggregations as features, but there might be some interest in identifying individual transactions. RNNs could do that, but they also assume sequential dependence between transactions, while this does not necessarily be the case.\n",
        "\n",
        "How about some attention? :)"
      ]
    },
    {
      "cell_type": "markdown",
      "metadata": {
        "id": "5RVq6qkYXBv1"
      },
      "source": [
        "#### A very quick primer in Attention:\n",
        "\n",
        "![self-attention.PNG](data:image/png;base64,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)\n",
        "\n"
      ]
    },
    {
      "cell_type": "code",
      "metadata": {
        "id": "5QLqrBAdXATr"
      },
      "source": [
        "from tensorflow.keras.layers import Attention, Embedding, Flatten, GlobalAveragePooling1D\n",
        "\n",
        "# Disclaimer: What definitely does not work in this example:\n",
        "# - Attention layer in tf.keras does not have all the necessary features yet\n",
        "# - Dimensions are not taken care of :)\n",
        "\n",
        "# Input would be a ragged tensor containing the different transactions of the\n",
        "# customers, each tensor inside the ragged is assumet to be an integer-encoded\n",
        "# categorical matrix \n",
        "inp = Input(shape=..., name=\"data\")\n",
        "\n",
        "val_emb = Embedding(\n",
        "  input_dim=512,\n",
        "  output_dim=50)\n",
        "value_embed = val_emb(inp)\n",
        "\n",
        "qry_emb = Embedding(\n",
        "  input_dim=512,\n",
        "  output_dim=50)\n",
        "qry_embed = qry_emb(inp)\n",
        "\n",
        "# Attention does not work this way atm\n",
        "attent_value, scores = Attention(causal=False)(\n",
        "  [qury_embed, value_embed],\n",
        "  return_attention_scores=True)\n",
        "\n",
        "# Reduce all the 50dim value vectors to one 50dim vector \n",
        "self_qury = GlobalAveragePooling1D()(\n",
        "    attent_value)\n",
        "\n",
        "# Attention round 2 :)\n",
        "# If it would work, the outcome would be one 50dim vector\n",
        "attent_value, scores = Attention(causal=False)(\n",
        "  [self_qry, value_embed],\n",
        "  return_attention_scores=True)\n",
        "\n",
        "fts = Flatten()(attent_value)\n",
        "probs = tf.nn.softmax(scores)\n",
        "\n",
        "hidden = Dense(128, activation=\"elu\")(fts)\n",
        "hidden = Dense(64, activation=\"elu\")(hidden)\n",
        "res = Dense(1, activation=\"softmax\")(hidden)\n",
        "\n",
        "model = Model(\n",
        "  inputs=[input],\n",
        "  outputs=res)"
      ],
      "execution_count": null,
      "outputs": []
    },
    {
      "cell_type": "markdown",
      "metadata": {
        "id": "b6PlDZ96jHB8"
      },
      "source": [
        "### What's next?\n",
        "\n",
        "This was just a brief glimpse into the world of tensorflow. Just a number of things which we have not even touched yet:\n",
        "\n",
        "1. Subclassing API for more customization\n",
        "2. Loading/preprocessing of data\n",
        "3. Special purpose tools for e.g. RNN, CNN, GNN\n",
        "4. Reinforcement Learning landscape (tf.agents)\n",
        "5. Deployment support\n",
        "6. and so on ... "
      ]
    },
    {
      "cell_type": "markdown",
      "metadata": {
        "id": "nalEnp0jj_7V"
      },
      "source": [
        "#Any Questions?"
      ]
    }
  ]
}