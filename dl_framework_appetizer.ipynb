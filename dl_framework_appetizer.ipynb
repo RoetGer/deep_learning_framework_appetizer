{
  "nbformat": 4,
  "nbformat_minor": 0,
  "metadata": {
    "colab": {
      "name": "dl_framework_appetizer.ipynb",
      "provenance": [],
      "collapsed_sections": [],
      "authorship_tag": "ABX9TyPyogg+NtzPByCzsRE4H11b",
      "include_colab_link": true
    },
    "kernelspec": {
      "name": "python3",
      "display_name": "Python 3"
    },
    "accelerator": "GPU"
  },
  "cells": [
    {
      "cell_type": "markdown",
      "metadata": {
        "id": "view-in-github",
        "colab_type": "text"
      },
      "source": [
        "<a href=\"https://colab.research.google.com/github/RoetGer/deep_learning_framework_appetizer/blob/main/dl_framework_appetizer.ipynb\" target=\"_parent\"><img src=\"https://colab.research.google.com/assets/colab-badge.svg\" alt=\"Open In Colab\"/></a>"
      ]
    },
    {
      "cell_type": "markdown",
      "metadata": {
        "id": "dj-NWTr4J-ef"
      },
      "source": [
        "# An Appetizer for Deep Learning Frameworks (Keras, TF, PyTorch & Co)\n",
        "\n"
      ]
    },
    {
      "cell_type": "markdown",
      "metadata": {
        "id": "rVTQs4kbkV9-"
      },
      "source": [
        "## Why should you care?\n",
        "\n",
        "The core selling points of DL frameworks are:\n",
        "\n",
        "- Flexibility \n",
        "- Ease of use "
      ]
    },
    {
      "cell_type": "markdown",
      "metadata": {
        "id": "yvxcM0ESk-kX"
      },
      "source": [
        "## What can you expect from this presentation?\n",
        "\n",
        "- A demonstration of what these frameworks are capable of.\n",
        "- The frameworks and the possibilities which come with them are huge, i.e. we\n",
        "will only cover a fraction of them.\n",
        "- The aim of this presentation is to spark interest in learning one of the frameworks, not turn you into a professional user!\n"
      ]
    },
    {
      "cell_type": "markdown",
      "metadata": {
        "id": "nCnO2MaFk-vH"
      },
      "source": [
        "## A quick introduction into Tensorflow 2.0\n",
        "\n",
        "Most of the frameworks are basically \"plug-in\" replacements for numpy"
      ]
    },
    {
      "cell_type": "code",
      "metadata": {
        "id": "R1m1JXOsJUCl",
        "colab": {
          "base_uri": "https://localhost:8080/"
        },
        "outputId": "f7e4d680-832b-41b8-e7ae-5f1922b2accd"
      },
      "source": [
        "import tensorflow as tf\n",
        "import tensorflow_probability as tfp\n",
        "\n",
        "tfl = tf.linalg\n",
        "\n",
        "print(tf.__version__)"
      ],
      "execution_count": null,
      "outputs": [
        {
          "output_type": "stream",
          "text": [
            "2.3.0\n"
          ],
          "name": "stdout"
        }
      ]
    },
    {
      "cell_type": "code",
      "metadata": {
        "id": "KvqsZsbqJ6J_"
      },
      "source": [
        "# You can sample random variables\n",
        "X = tf.random.normal(shape=(10, 4))\n",
        "y = tf.random.normal(shape=(1, 10))"
      ],
      "execution_count": null,
      "outputs": []
    },
    {
      "cell_type": "code",
      "metadata": {
        "colab": {
          "base_uri": "https://localhost:8080/"
        },
        "id": "Sbp6isMU1cnt",
        "outputId": "2c242701-d7b5-4962-bbb1-ee4595a0c571"
      },
      "source": [
        "X"
      ],
      "execution_count": null,
      "outputs": [
        {
          "output_type": "execute_result",
          "data": {
            "text/plain": [
              "<tf.Tensor: shape=(10, 4), dtype=float32, numpy=\n",
              "array([[ 2.9997802e-01,  6.6795148e-02, -2.0081093e+00, -3.0193716e-01],\n",
              "       [-1.4067190e+00, -2.2354376e+00,  5.2987796e-01,  5.5395693e-01],\n",
              "       [-6.1793453e-01,  5.8786184e-01, -1.4413153e-01,  5.2614850e-01],\n",
              "       [ 8.4892249e-01,  1.4285388e+00, -1.8667804e+00, -2.1514452e-01],\n",
              "       [ 2.5285143e-01,  1.3683176e+00,  1.1197956e+00,  1.0769231e+00],\n",
              "       [ 7.4349618e-01,  1.7352816e+00,  1.1996388e+00,  1.1764905e+00],\n",
              "       [ 2.9218301e-01, -9.8305571e-01, -5.2672964e-01, -6.6858396e-02],\n",
              "       [-4.8412124e-04, -4.2379364e-01, -2.9578644e-01,  2.0964403e+00],\n",
              "       [ 7.9661018e-01, -2.0831103e+00,  1.3588391e-01, -2.7381501e+00],\n",
              "       [-6.4102340e-01,  7.0689106e-01,  7.6492846e-01, -1.2498299e+00]],\n",
              "      dtype=float32)>"
            ]
          },
          "metadata": {
            "tags": []
          },
          "execution_count": 6
        }
      ]
    },
    {
      "cell_type": "code",
      "metadata": {
        "colab": {
          "base_uri": "https://localhost:8080/"
        },
        "id": "1zv983EwQUMI",
        "outputId": "6973cffe-13d5-4287-c337-a3a4f2d4c889"
      },
      "source": [
        "# Do some simple linear algebra\n",
        "print(tf.matmul(y, X))\n",
        "\n",
        "# Or in short\n",
        "y @ X"
      ],
      "execution_count": null,
      "outputs": [
        {
          "output_type": "stream",
          "text": [
            "tf.Tensor([[-1.4530476 -4.028884  -4.6086655 -8.492169 ]], shape=(1, 4), dtype=float32)\n"
          ],
          "name": "stdout"
        },
        {
          "output_type": "execute_result",
          "data": {
            "text/plain": [
              "<tf.Tensor: shape=(1, 4), dtype=float32, numpy=array([[-1.4530476, -4.028884 , -4.6086655, -8.492169 ]], dtype=float32)>"
            ]
          },
          "metadata": {
            "tags": []
          },
          "execution_count": 7
        }
      ]
    },
    {
      "cell_type": "code",
      "metadata": {
        "id": "deftLRYGjuDz",
        "colab": {
          "base_uri": "https://localhost:8080/"
        },
        "outputId": "334e958d-7374-4d2e-eb2e-5d94dd549291"
      },
      "source": [
        "# Or more complicated linear algebra\n",
        "XtX = tf.matmul(X, X, transpose_a=True)\n",
        "tfl.cholesky(XtX)"
      ],
      "execution_count": null,
      "outputs": [
        {
          "output_type": "execute_result",
          "data": {
            "text/plain": [
              "<tf.Tensor: shape=(4, 4), dtype=float32, numpy=\n",
              "array([[ 2.21787   ,  0.        ,  0.        ,  0.        ],\n",
              "       [ 1.4656838 ,  4.013509  ,  0.        ,  0.        ],\n",
              "       [-0.9938571 ,  0.47372642,  3.2044249 ,  0.        ],\n",
              "       [-0.7354815 ,  1.8273778 ,  0.10401838,  3.5823257 ]],\n",
              "      dtype=float32)>"
            ]
          },
          "metadata": {
            "tags": []
          },
          "execution_count": 8
        }
      ]
    },
    {
      "cell_type": "markdown",
      "metadata": {
        "id": "KzoZL0y2Rqgo"
      },
      "source": [
        "None of these things are particularly special or impressive, numpy can do these things and more :)\n",
        "\n",
        "However, let's look at the following example what makes them amazing.\n",
        "\n",
        "## Example - Empirical Covariance Matrix"
      ]
    },
    {
      "cell_type": "code",
      "metadata": {
        "id": "KlXfh1aMR6Pr"
      },
      "source": [
        "n = 50\n",
        "dim = 4\n",
        "\n",
        "samples = tf.random.normal(shape=(n, dim))\n",
        "samples = samples - tf.reduce_mean(samples, axis=0)\n",
        "emp_cov_mat = tf.matmul(samples, samples, transpose_a=True)"
      ],
      "execution_count": null,
      "outputs": []
    },
    {
      "cell_type": "code",
      "metadata": {
        "id": "PICLjNJ5S-jS"
      },
      "source": [
        "def proj_psd_cone(X):\n",
        "  '''\n",
        "  Makes the matrix X positive semi-definite.\n",
        "\n",
        "  Returns projected matrix, eigen-values, eigen-vectors\n",
        "  '''\n",
        "  eig_vals, eig_vecs = tfl.eigh(X)\n",
        "\n",
        "  # Replace negative eigenvalues with 0.\n",
        "  eig_vals = tf.where(eig_vals < 0, 0.0, eig_vals)\n",
        "  \n",
        "  return [\n",
        "      eig_vecs @ tfl.diag(eig_vals) @ tf.transpose(eig_vecs),\n",
        "      eig_vals,\n",
        "      eig_vecs\n",
        "  ]\n",
        "\n",
        "\n",
        "def turn_vec_into_sym_mat(theta):\n",
        "  '''\n",
        "  Turns a vector into a symmetric matrix by interpreting the vector\n",
        "  as the lower triangular matrix of the final matrix.\n",
        "  '''\n",
        "  low_tri_mat = tfp.math.fill_triangular(theta)\n",
        "  \n",
        "  upper_tri_mat = tf.transpose(low_tri_mat)\n",
        "  upper_tri_mat = tfl.set_diag(upper_tri_mat, tf.zeros(low_tri_mat.shape[0]))\n",
        "  \n",
        "  full_mat = low_tri_mat + upper_tri_mat \n",
        "\n",
        "  return full_mat\n",
        "\n",
        "# 1,2,3\n",
        "\n",
        "# 1 0 \n",
        "# 2 3\n",
        "\n",
        "# 1 2\n",
        "# 2 3\n",
        "\n",
        "# xTKx >= 0 K is positive semidefinite\n",
        "# => eigenvalues >= 0\n",
        "\n",
        "@tf.function() # Tells Python/tensorflow to compile the computation graph\n",
        "def func_to_optimize(theta, Sigma, penalty):\n",
        "    \n",
        "  full_mat = turn_vec_into_sym_mat(theta)\n",
        "\n",
        "  full_mat, eig_vals, eig_vecs = proj_psd_cone(full_mat)\n",
        "\n",
        "  full_mat += (1e-6)*tfl.eye(full_mat.shape[0])\n",
        "\n",
        "  res = (\n",
        "       tfl.trace(tf.matmul(full_mat, Sigma)) \n",
        "       - tfl.logdet(full_mat)\n",
        "       + penalty * tf.reduce_sum(tf.abs(full_mat))\n",
        "       - penalty * tf.reduce_sum(tf.where(eig_vals < 0, eig_vals, 0))\n",
        "  )\n",
        "\n",
        "  return res"
      ],
      "execution_count": null,
      "outputs": []
    },
    {
      "cell_type": "code",
      "metadata": {
        "id": "fbSymlm-T2lu"
      },
      "source": [
        "\n",
        "theta = tf.Variable(tfp.math.fill_triangular_inverse(tf.eye(dim)))\n",
        "# -> Variable means, that the value can vary -> we can optimize with respect to\n",
        "# it later on.\n",
        "sparse_pen = 0.01"
      ],
      "execution_count": null,
      "outputs": []
    },
    {
      "cell_type": "code",
      "metadata": {
        "colab": {
          "base_uri": "https://localhost:8080/"
        },
        "id": "9wnhDMH234Xc",
        "outputId": "0109c195-40c3-4097-f2ab-c163ba615358"
      },
      "source": [
        "tf.eye(2)"
      ],
      "execution_count": null,
      "outputs": [
        {
          "output_type": "execute_result",
          "data": {
            "text/plain": [
              "<tf.Tensor: shape=(2, 2), dtype=float32, numpy=\n",
              "array([[1., 0.],\n",
              "       [0., 1.]], dtype=float32)>"
            ]
          },
          "metadata": {
            "tags": []
          },
          "execution_count": 12
        }
      ]
    },
    {
      "cell_type": "code",
      "metadata": {
        "colab": {
          "base_uri": "https://localhost:8080/"
        },
        "id": "CsJ9cdQ33pps",
        "outputId": "2424340f-d046-43b5-d016-0cb189df4d70"
      },
      "source": [
        "theta"
      ],
      "execution_count": null,
      "outputs": [
        {
          "output_type": "execute_result",
          "data": {
            "text/plain": [
              "<tf.Variable 'Variable:0' shape=(10,) dtype=float32, numpy=array([1., 0., 0., 0., 1., 1., 0., 0., 0., 1.], dtype=float32)>"
            ]
          },
          "metadata": {
            "tags": []
          },
          "execution_count": 20
        }
      ]
    },
    {
      "cell_type": "code",
      "metadata": {
        "colab": {
          "base_uri": "https://localhost:8080/"
        },
        "id": "a2yM2RYBUlG7",
        "outputId": "9642d2d0-ce82-4cc8-883d-73f829418939"
      },
      "source": [
        "func_to_optimize(theta, emp_cov_mat, sparse_pen)"
      ],
      "execution_count": null,
      "outputs": [
        {
          "output_type": "execute_result",
          "data": {
            "text/plain": [
              "<tf.Tensor: shape=(), dtype=float32, numpy=196.14638>"
            ]
          },
          "metadata": {
            "tags": []
          },
          "execution_count": 16
        }
      ]
    },
    {
      "cell_type": "markdown",
      "metadata": {
        "id": "A9aNeNYLZfho"
      },
      "source": [
        "Your task is now to minimize this function with respect to theta ..."
      ]
    },
    {
      "cell_type": "code",
      "metadata": {
        "colab": {
          "base_uri": "https://localhost:8080/"
        },
        "id": "3j6i3ei1ZlBX",
        "outputId": "1bafa542-683b-4e57-9d77-ddd7be14fce4"
      },
      "source": [
        "with tf.GradientTape() as tape:\n",
        "  value = func_to_optimize(theta, emp_cov_mat, sparse_pen)\n",
        "\n",
        "tape.gradient(value, theta)"
      ],
      "execution_count": null,
      "outputs": [
        {
          "output_type": "execute_result",
          "data": {
            "text/plain": [
              "<tf.Tensor: shape=(10,), dtype=float32, numpy=\n",
              "array([61.50865 ,  0.      ,  0.      ,  0.      , 40.395805, 32.07287 ,\n",
              "        0.      ,  0.      ,  0.      , 58.168873], dtype=float32)>"
            ]
          },
          "metadata": {
            "tags": []
          },
          "execution_count": 17
        }
      ]
    },
    {
      "cell_type": "markdown",
      "metadata": {
        "id": "Wu96sT7GapIF"
      },
      "source": [
        "Tensorflow provides us with gradients of this complicated function!"
      ]
    },
    {
      "cell_type": "code",
      "metadata": {
        "id": "E9IILdzvak9S",
        "colab": {
          "base_uri": "https://localhost:8080/"
        },
        "outputId": "391d82fd-a74f-4026-df75-05c9070d1cf1"
      },
      "source": [
        "# Optimizing with a bit of boilerplate code\n",
        "opt = tf.keras.optimizers.Adam()\n",
        "\n",
        "for i in range(100):\n",
        "  opt.minimize(lambda: func_to_optimize(theta, emp_cov_mat, sparse_pen), [theta])\n",
        "\n",
        "theta"
      ],
      "execution_count": null,
      "outputs": [
        {
          "output_type": "execute_result",
          "data": {
            "text/plain": [
              "<tf.Variable 'Variable:0' shape=(10,) dtype=float32, numpy=\n",
              "array([ 0.9000369 ,  0.093619  , -0.0942895 ,  0.09085264,  0.90016115,\n",
              "        0.9000709 , -0.09302635,  0.09350123,  0.08296271,  0.900056  ],\n",
              "      dtype=float32)>"
            ]
          },
          "metadata": {
            "tags": []
          },
          "execution_count": 21
        }
      ]
    },
    {
      "cell_type": "code",
      "metadata": {
        "id": "tN8ugIgibpNN"
      },
      "source": [
        "# Optimizing with more functionality\n",
        "from tensorflow_probability.python.optimizer.convergence_criteria import LossNotDecreasing\n",
        "\n",
        "trace_fn = lambda traceable_quantities: {\n",
        "  'loss': traceable_quantities.loss, \n",
        "  'theta': theta\n",
        "}\n",
        "\n",
        "opt = tfp.math.minimize(\n",
        "    lambda: func_to_optimize(theta, emp_cov_mat, penalty=sparse_pen),\n",
        "    num_steps=250, \n",
        "    optimizer=tf.keras.optimizers.Adam(learning_rate=0.001),\n",
        "    convergence_criterion=LossNotDecreasing(rtol=1e-4, window_size=25),\n",
        "    return_full_length_trace=False,\n",
        "    trace_fn=trace_fn)"
      ],
      "execution_count": null,
      "outputs": []
    },
    {
      "cell_type": "code",
      "metadata": {
        "colab": {
          "base_uri": "https://localhost:8080/"
        },
        "id": "UXeGUCEQ6Kp3",
        "outputId": "9810a539-c04d-432d-8f2a-866278cf9c66"
      },
      "source": [
        "opt[\"theta\"]"
      ],
      "execution_count": null,
      "outputs": [
        {
          "output_type": "execute_result",
          "data": {
            "text/plain": [
              "<tf.Tensor: shape=(250, 10), dtype=float32, numpy=\n",
              "array([[ 0.8990368 ,  0.09461903, -0.09528954, ...,  0.09450126,\n",
              "         0.08396274,  0.89905596],\n",
              "       [ 0.89803684,  0.09561904, -0.09628955, ...,  0.09550126,\n",
              "         0.08496264,  0.898056  ],\n",
              "       [ 0.89703685,  0.09661903, -0.09728953, ...,  0.09650124,\n",
              "         0.08596234,  0.897056  ],\n",
              "       ...,\n",
              "       [ 0.65344733,  0.34187528, -0.33328766, ...,  0.32878774,\n",
              "         0.02902675,  0.6537736 ],\n",
              "       [ 0.6524676 ,  0.34288633, -0.33416426, ...,  0.32961518,\n",
              "         0.02703207,  0.6527954 ],\n",
              "       [ 0.6514881 ,  0.34389752, -0.33503947, ...,  0.33044073,\n",
              "         0.02503313,  0.6518173 ]], dtype=float32)>"
            ]
          },
          "metadata": {
            "tags": []
          },
          "execution_count": 23
        }
      ]
    },
    {
      "cell_type": "markdown",
      "metadata": {
        "id": "Ad7EqJSeeBRK"
      },
      "source": [
        "We have acquired the ability to optimize function like the one above. \n",
        "But was it worth it???\n",
        "\n",
        "Q: First and foremost, what does the function actually trying to achieve, i.e. what should the optimal theta look like?\n",
        "\n",
        "1.   The inverse of the empirical covariance matrix (ECM).\n",
        "2.   A sparse precision matrix of the ECM.\n",
        "3.   A positive-semidefinite version of the ECM.\n",
        "4.   All of the above.\n",
        "5.   None of the above.\n",
        "\n",
        "Q: This means that the matrix shows us ...\n",
        "\n",
        "Q: What could be some potential use cases where this property could be helpful?"
      ]
    },
    {
      "cell_type": "markdown",
      "metadata": {
        "id": "LQpBN3SeiVAj"
      },
      "source": [
        "Getting gradients for (obscure) functions is amazing (particularly for high-dimensional problems), however, this was not the only reasons why these frameworks became so popular. Initially, an additional driver was there capabilities to run code easily on the GPU, e.g. "
      ]
    },
    {
      "cell_type": "code",
      "metadata": {
        "id": "tO3wXU8r91rt"
      },
      "source": [
        "theta.to(\"device\")"
      ],
      "execution_count": null,
      "outputs": []
    },
    {
      "cell_type": "code",
      "metadata": {
        "colab": {
          "base_uri": "https://localhost:8080/",
          "height": 35
        },
        "id": "Q-Gg3lrzY--z",
        "outputId": "a2ac81b2-85fe-4f6b-d367-a3007a33cd46"
      },
      "source": [
        "theta.device"
      ],
      "execution_count": null,
      "outputs": [
        {
          "output_type": "execute_result",
          "data": {
            "application/vnd.google.colaboratory.intrinsic+json": {
              "type": "string"
            },
            "text/plain": [
              "'/job:localhost/replica:0/task:0/device:GPU:0'"
            ]
          },
          "metadata": {
            "tags": []
          },
          "execution_count": 24
        }
      ]
    },
    {
      "cell_type": "code",
      "metadata": {
        "colab": {
          "base_uri": "https://localhost:8080/",
          "height": 35
        },
        "id": "tBbBrntIi-Yf",
        "outputId": "19f7b5c8-a23f-4781-e912-ffe613d909fd"
      },
      "source": [
        "# If you don't want to run stuff on the GPU, you can either switch it entirely, or just run it in a specific context\n",
        "\n",
        "with tf.device(\"/cpu:0\"):\n",
        "  a = tf.constant(2.)\n",
        "  b = tf.constant(3.)\n",
        "  c = a + b\n",
        "\n",
        "c.device"
      ],
      "execution_count": null,
      "outputs": [
        {
          "output_type": "execute_result",
          "data": {
            "application/vnd.google.colaboratory.intrinsic+json": {
              "type": "string"
            },
            "text/plain": [
              "'/job:localhost/replica:0/task:0/device:CPU:0'"
            ]
          },
          "metadata": {
            "tags": []
          },
          "execution_count": 25
        }
      ]
    },
    {
      "cell_type": "markdown",
      "metadata": {
        "id": "D8wh9RcDkFnO"
      },
      "source": [
        "In recent history, the various frameworks have also added support to run computations easily on a cluster or machines with multiples GPUs (or both). E.g. if our machine had multiple GPUs available:"
      ]
    },
    {
      "cell_type": "code",
      "metadata": {
        "id": "9-JUELETkmVe"
      },
      "source": [
        "dist = tf.distribute.MirroredStrategy()\n",
        "\n",
        "with dist.scope():\n",
        "  mdl = # Define a big model here\n",
        "  mdl.compile(...)\n",
        "\n",
        "mdl.fit(X, y, epochs=100)"
      ],
      "execution_count": null,
      "outputs": []
    },
    {
      "cell_type": "markdown",
      "metadata": {
        "id": "J9rLszdelfX-"
      },
      "source": [
        "Tensorflow will automatically mirror all the model parameters on the different GPUs. Each mirrored model will compute gradients independently from the other models, then they combine their different gradients and update their parameters."
      ]
    },
    {
      "cell_type": "markdown",
      "metadata": {
        "id": "DxV5ZdMBqT-q"
      },
      "source": [
        "### Example - Boston Housing Data\n",
        "\n",
        "Beyond these things that made Tensorflow and Co appealing in the first place, it got also very easy to build complex models thanks to the frameworks."
      ]
    },
    {
      "cell_type": "code",
      "metadata": {
        "id": "6UFotJwxqTMU",
        "colab": {
          "base_uri": "https://localhost:8080/"
        },
        "outputId": "e21b92ca-d6fe-4cb5-c4fc-802c33b3697c"
      },
      "source": [
        "from tensorflow.keras.datasets import boston_housing\n",
        "\n",
        "(Xtrain, ytrain), (Xtest, ytest) = boston_housing.load_data()"
      ],
      "execution_count": null,
      "outputs": [
        {
          "output_type": "stream",
          "text": [
            "Downloading data from https://storage.googleapis.com/tensorflow/tf-keras-datasets/boston_housing.npz\n",
            "57344/57026 [==============================] - 0s 0us/step\n"
          ],
          "name": "stdout"
        }
      ]
    },
    {
      "cell_type": "code",
      "metadata": {
        "id": "H5oy20sG_Xr2"
      },
      "source": [
        "import pandas as pd\n",
        "\n",
        "train = pd.read_csv(\"sample_data/california_housing_train.csv\") \n",
        "test = pd.read_csv(\"sample_data/california_housing_test.csv\")"
      ],
      "execution_count": null,
      "outputs": []
    },
    {
      "cell_type": "code",
      "metadata": {
        "id": "sa2R0MMl_tIb"
      },
      "source": [
        "Xtrain, ytrain = train.drop(columns=\"median_house_value\"), train.median_house_value\n",
        "Xtest, ytest = test.drop(columns=\"median_house_value\"), test.median_house_value"
      ],
      "execution_count": null,
      "outputs": []
    },
    {
      "cell_type": "code",
      "metadata": {
        "id": "X-3PzOFKrX8E"
      },
      "source": [
        "# Pro forma preprocessing :)\n",
        "from sklearn.preprocessing import StandardScaler\n",
        "\n",
        "ssc_x = StandardScaler()\n",
        "\n",
        "Xtrain = ssc_x.fit_transform(Xtrain)\n",
        "Xtest = ssc_x.transform(Xtest)\n",
        "\n",
        "# This one is important for later on.\n",
        "ssc_y = StandardScaler()\n",
        "ytrain = ssc_y.fit_transform(ytrain.values.reshape(-1,1))\n",
        "ytest = ssc_y.transform(ytest.values.reshape(-1,1))"
      ],
      "execution_count": null,
      "outputs": []
    },
    {
      "cell_type": "code",
      "metadata": {
        "id": "DyVwqc0CrX_A"
      },
      "source": [
        "from tensorflow.keras import Sequential\n",
        "from tensorflow.keras.layers import BatchNormalization, Dense, Dropout, ReLU"
      ],
      "execution_count": null,
      "outputs": []
    },
    {
      "cell_type": "code",
      "metadata": {
        "id": "P7w8ibJ4sUjP"
      },
      "source": [
        "mdl = Sequential([\n",
        "  Dropout(0.25)\n",
        "  , Dense(1000, activation=\"elu\", kernel_regularizer=\"l1\")\n",
        "  , BatchNormalization()\n",
        "  , Dropout(0.25)\n",
        "  , Dense(125, activation=\"elu\")\n",
        "  , BatchNormalization()\n",
        "  , Dropout(0.25)\n",
        "  , Dense(50, activation=\"elu\")\n",
        "  , BatchNormalization()\n",
        "  , Dropout(0.25)\n",
        "  , Dense(1)               \n",
        "])"
      ],
      "execution_count": null,
      "outputs": []
    },
    {
      "cell_type": "code",
      "metadata": {
        "id": "2a6AXtLutS4d"
      },
      "source": [
        "mdl.compile(loss=tf.keras.losses.mean_squared_error)"
      ],
      "execution_count": null,
      "outputs": []
    },
    {
      "cell_type": "code",
      "metadata": {
        "colab": {
          "base_uri": "https://localhost:8080/"
        },
        "id": "PFYkNTX5tYuq",
        "outputId": "9ec67325-b5ab-4dc0-9cd2-0b044b9f45e4"
      },
      "source": [
        "from tensorflow.keras.callbacks import EarlyStopping, ModelCheckpoint\n",
        "\n",
        "hist = mdl.fit(\n",
        "    x=Xtrain, \n",
        "    y=ytrain, \n",
        "    batch_size=32, \n",
        "    epochs=100, \n",
        "    validation_split=0.2,\n",
        "    callbacks=[\n",
        "      EarlyStopping(patience=20, restore_best_weights=True),\n",
        "      ModelCheckpoint(\"best_model.h5\", save_best_only=True)         \n",
        "    ])"
      ],
      "execution_count": null,
      "outputs": [
        {
          "output_type": "stream",
          "text": [
            "Epoch 1/100\n",
            "425/425 [==============================] - 2s 4ms/step - loss: 2.1471 - val_loss: 1.5561\n",
            "Epoch 2/100\n",
            "425/425 [==============================] - 2s 4ms/step - loss: 0.8675 - val_loss: 1.1832\n",
            "Epoch 3/100\n",
            "425/425 [==============================] - 2s 4ms/step - loss: 0.7233 - val_loss: 1.0197\n",
            "Epoch 4/100\n",
            "425/425 [==============================] - 2s 4ms/step - loss: 0.6808 - val_loss: 1.0155\n",
            "Epoch 5/100\n",
            "425/425 [==============================] - 1s 3ms/step - loss: 0.6799 - val_loss: 1.1414\n",
            "Epoch 6/100\n",
            "425/425 [==============================] - 2s 4ms/step - loss: 0.6572 - val_loss: 0.8195\n",
            "Epoch 7/100\n",
            "425/425 [==============================] - 1s 3ms/step - loss: 0.6602 - val_loss: 0.9501\n",
            "Epoch 8/100\n",
            "425/425 [==============================] - 2s 4ms/step - loss: 0.6490 - val_loss: 0.9929\n",
            "Epoch 9/100\n",
            "425/425 [==============================] - 1s 3ms/step - loss: 0.6436 - val_loss: 0.9216\n",
            "Epoch 10/100\n",
            "425/425 [==============================] - 1s 3ms/step - loss: 0.6419 - val_loss: 1.0651\n",
            "Epoch 11/100\n",
            "425/425 [==============================] - 1s 3ms/step - loss: 0.6270 - val_loss: 0.9796\n",
            "Epoch 12/100\n",
            "425/425 [==============================] - 2s 4ms/step - loss: 0.6395 - val_loss: 0.8449\n",
            "Epoch 13/100\n",
            "425/425 [==============================] - 2s 4ms/step - loss: 0.6333 - val_loss: 0.8269\n",
            "Epoch 14/100\n",
            "425/425 [==============================] - 2s 4ms/step - loss: 0.6231 - val_loss: 0.7642\n",
            "Epoch 15/100\n",
            "425/425 [==============================] - 2s 4ms/step - loss: 0.6376 - val_loss: 0.9141\n",
            "Epoch 16/100\n",
            "425/425 [==============================] - 1s 3ms/step - loss: 0.6283 - val_loss: 1.0496\n",
            "Epoch 17/100\n",
            "425/425 [==============================] - 2s 4ms/step - loss: 0.6210 - val_loss: 0.9358\n",
            "Epoch 18/100\n",
            "425/425 [==============================] - 2s 4ms/step - loss: 0.6253 - val_loss: 0.9690\n",
            "Epoch 19/100\n",
            "425/425 [==============================] - 1s 3ms/step - loss: 0.6201 - val_loss: 1.2325\n",
            "Epoch 20/100\n",
            "425/425 [==============================] - 2s 4ms/step - loss: 0.6220 - val_loss: 0.7483\n",
            "Epoch 21/100\n",
            "425/425 [==============================] - 2s 4ms/step - loss: 0.6137 - val_loss: 1.0095\n",
            "Epoch 22/100\n",
            "425/425 [==============================] - 1s 3ms/step - loss: 0.6224 - val_loss: 0.9932\n",
            "Epoch 23/100\n",
            "425/425 [==============================] - 1s 3ms/step - loss: 0.6082 - val_loss: 1.1622\n",
            "Epoch 24/100\n",
            "425/425 [==============================] - 2s 4ms/step - loss: 0.6211 - val_loss: 1.0003\n",
            "Epoch 25/100\n",
            "425/425 [==============================] - 2s 4ms/step - loss: 0.6020 - val_loss: 0.7729\n",
            "Epoch 26/100\n",
            "425/425 [==============================] - 2s 4ms/step - loss: 0.6048 - val_loss: 1.0196\n",
            "Epoch 27/100\n",
            "425/425 [==============================] - 2s 4ms/step - loss: 0.6209 - val_loss: 1.0063\n",
            "Epoch 28/100\n",
            "425/425 [==============================] - 2s 4ms/step - loss: 0.6119 - val_loss: 0.7361\n",
            "Epoch 29/100\n",
            "425/425 [==============================] - 2s 4ms/step - loss: 0.6053 - val_loss: 1.0383\n",
            "Epoch 30/100\n",
            "425/425 [==============================] - 2s 4ms/step - loss: 0.6045 - val_loss: 1.1520\n",
            "Epoch 31/100\n",
            "425/425 [==============================] - 2s 4ms/step - loss: 0.6035 - val_loss: 0.9469\n",
            "Epoch 32/100\n",
            "425/425 [==============================] - 2s 4ms/step - loss: 0.6109 - val_loss: 0.8793\n",
            "Epoch 33/100\n",
            "425/425 [==============================] - 2s 4ms/step - loss: 0.6035 - val_loss: 0.8913\n",
            "Epoch 34/100\n",
            "425/425 [==============================] - 2s 4ms/step - loss: 0.6076 - val_loss: 1.0431\n",
            "Epoch 35/100\n",
            "425/425 [==============================] - 1s 3ms/step - loss: 0.6066 - val_loss: 0.8110\n",
            "Epoch 36/100\n",
            "425/425 [==============================] - 1s 3ms/step - loss: 0.6099 - val_loss: 0.9646\n",
            "Epoch 37/100\n",
            "425/425 [==============================] - 2s 4ms/step - loss: 0.5954 - val_loss: 1.0865\n",
            "Epoch 38/100\n",
            "425/425 [==============================] - 1s 3ms/step - loss: 0.6040 - val_loss: 0.7688\n",
            "Epoch 39/100\n",
            "425/425 [==============================] - 1s 3ms/step - loss: 0.6009 - val_loss: 0.9357\n",
            "Epoch 40/100\n",
            "425/425 [==============================] - 1s 3ms/step - loss: 0.5923 - val_loss: 0.9859\n",
            "Epoch 41/100\n",
            "425/425 [==============================] - 2s 4ms/step - loss: 0.6104 - val_loss: 0.8645\n",
            "Epoch 42/100\n",
            "425/425 [==============================] - 1s 4ms/step - loss: 0.6071 - val_loss: 0.9998\n",
            "Epoch 43/100\n",
            "425/425 [==============================] - 2s 4ms/step - loss: 0.5847 - val_loss: 1.0774\n",
            "Epoch 44/100\n",
            "425/425 [==============================] - 1s 3ms/step - loss: 0.6024 - val_loss: 0.9113\n",
            "Epoch 45/100\n",
            "425/425 [==============================] - 1s 3ms/step - loss: 0.6000 - val_loss: 0.9771\n",
            "Epoch 46/100\n",
            "425/425 [==============================] - 2s 4ms/step - loss: 0.5938 - val_loss: 0.9094\n",
            "Epoch 47/100\n",
            "425/425 [==============================] - 1s 3ms/step - loss: 0.5922 - val_loss: 1.0311\n",
            "Epoch 48/100\n",
            "425/425 [==============================] - 2s 4ms/step - loss: 0.5976 - val_loss: 1.0561\n"
          ],
          "name": "stdout"
        }
      ]
    },
    {
      "cell_type": "code",
      "metadata": {
        "id": "NQpVi7SzbOMO"
      },
      "source": [
        "#inputs=model.inputs, outputs=model.layers[-2].output\n",
        "mdl2 = tf.keras.Model(inputs=mdl.inputs, outputs=mdl.layers[4].output)"
      ],
      "execution_count": null,
      "outputs": []
    },
    {
      "cell_type": "code",
      "metadata": {
        "id": "B_YEMs7LfHjo",
        "colab": {
          "base_uri": "https://localhost:8080/"
        },
        "outputId": "37e292cd-5310-402c-b6af-51ebeace6ffe"
      },
      "source": [
        "mdl2.summary()"
      ],
      "execution_count": null,
      "outputs": [
        {
          "output_type": "stream",
          "text": [
            "Model: \"functional_7\"\n",
            "_________________________________________________________________\n",
            "Layer (type)                 Output Shape              Param #   \n",
            "=================================================================\n",
            "dropout_input (InputLayer)   [(None, 8)]               0         \n",
            "_________________________________________________________________\n",
            "dropout (Dropout)            (None, 8)                 0         \n",
            "_________________________________________________________________\n",
            "dense (Dense)                (None, 1000)              9000      \n",
            "_________________________________________________________________\n",
            "batch_normalization (BatchNo (None, 1000)              4000      \n",
            "_________________________________________________________________\n",
            "dropout_1 (Dropout)          (None, 1000)              0         \n",
            "_________________________________________________________________\n",
            "dense_1 (Dense)              (None, 125)               125125    \n",
            "=================================================================\n",
            "Total params: 138,125\n",
            "Trainable params: 136,125\n",
            "Non-trainable params: 2,000\n",
            "_________________________________________________________________\n"
          ],
          "name": "stdout"
        }
      ]
    },
    {
      "cell_type": "code",
      "metadata": {
        "colab": {
          "base_uri": "https://localhost:8080/"
        },
        "id": "D2nu8DfbcWYM",
        "outputId": "95b1ac4f-fad8-4691-9408-618cf821b4ca"
      },
      "source": [
        "mdl2.layers"
      ],
      "execution_count": null,
      "outputs": [
        {
          "output_type": "execute_result",
          "data": {
            "text/plain": [
              "[]"
            ]
          },
          "metadata": {
            "tags": []
          },
          "execution_count": 21
        }
      ]
    },
    {
      "cell_type": "code",
      "metadata": {
        "id": "AN0p9ZWSbnHk"
      },
      "source": [
        "??tf.keras.Model"
      ],
      "execution_count": null,
      "outputs": []
    },
    {
      "cell_type": "markdown",
      "metadata": {
        "id": "EIoHyKYtzBcu"
      },
      "source": [
        "Q: Any ideas why the training loss is actually higher than the validation loss?"
      ]
    },
    {
      "cell_type": "code",
      "metadata": {
        "colab": {
          "base_uri": "https://localhost:8080/",
          "height": 655
        },
        "id": "GYDVObhiuNjX",
        "outputId": "d1a028ac-a50f-4a64-8d0b-bd961899bf93"
      },
      "source": [
        "from matplotlib import pyplot as plt\n",
        "from sklearn.metrics import mean_squared_error\n",
        "\n",
        "plt.rcParams.update({'font.size': 16})\n",
        "\n",
        "def plot_hist(hist, figsize=(15,10)):\n",
        "  plt.figure(figsize=figsize)\n",
        "  plt.plot(hist.history['loss'])\n",
        "  plt.plot(hist.history['val_loss'])\n",
        "  plt.title('Mean Squared Error')\n",
        "  plt.ylabel('Loss')\n",
        "  plt.xlabel('epoch')\n",
        "  plt.legend(['train', 'val'], loc='best')\n",
        "  plt.show()\n",
        "\n",
        "plot_hist(hist)\n",
        "print(\"NN:\", mean_squared_error(ytest, mdl.predict(Xtest)))"
      ],
      "execution_count": null,
      "outputs": [
        {
          "output_type": "display_data",
          "data": {
            "image/png": "[encoded data removed]",
            "text/plain": [
              "<Figure size 1080x720 with 1 Axes>"
            ]
          },
          "metadata": {
            "tags": [],
            "needs_background": "light"
          }
        },
        {
          "output_type": "stream",
          "text": [
            "NN: 0.43242753533589967\n"
          ],
          "name": "stdout"
        }
      ]
    },
    {
      "cell_type": "markdown",
      "metadata": {
        "id": "aJAAfgKPv6SS"
      },
      "source": [
        "Looks good, what about a challenger model?"
      ]
    },
    {
      "cell_type": "code",
      "metadata": {
        "colab": {
          "base_uri": "https://localhost:8080/"
        },
        "id": "DVjGK9qXv-Ij",
        "outputId": "3cf2c317-c38e-4bdd-a8e4-ef36cc0a23b4"
      },
      "source": [
        "from sklearn.ensemble import RandomForestRegressor\n",
        "\n",
        "rfr = RandomForestRegressor(\n",
        "    n_estimators=250,\n",
        "    max_leaf_nodes=16)\n",
        "\n",
        "rfr.fit(Xtrain, ytrain)\n",
        "\n",
        "print(\"RandomForest:\", mean_squared_error(ytest, rfr.predict(Xtest)))\n",
        "print(\"NN:\", mean_squared_error(ytest, mdl.predict(Xtest)))"
      ],
      "execution_count": null,
      "outputs": [
        {
          "output_type": "stream",
          "text": [
            "/usr/local/lib/python3.6/dist-packages/ipykernel_launcher.py:7: DataConversionWarning: A column-vector y was passed when a 1d array was expected. Please change the shape of y to (n_samples,), for example using ravel().\n",
            "  import sys\n"
          ],
          "name": "stderr"
        },
        {
          "output_type": "stream",
          "text": [
            "RandomForest: 0.37692267446695316\n",
            "NN: 0.43242753533589967\n"
          ],
          "name": "stdout"
        }
      ]
    },
    {
      "cell_type": "markdown",
      "metadata": {
        "id": "wF8qom0ewd1S"
      },
      "source": [
        "Well, seems like we are going to use the Random Forest model!\n",
        "\n",
        "But wait a second, Business is not so happy with the model, they don't want a model that optimizes the mean-squared error, but more something like this:"
      ]
    },
    {
      "cell_type": "code",
      "metadata": {
        "colab": {
          "base_uri": "https://localhost:8080/",
          "height": 615
        },
        "id": "iRqDIiwdw9KY",
        "outputId": "e8b1ab7e-f7d9-48bf-ff36-24035e5d2f65"
      },
      "source": [
        "def business_loss(y_true, y_pred):\n",
        "  '''\n",
        "  The loss business wants us to use, because overestimating the housing price\n",
        "  is way more critical than underestimating it!\n",
        "  '''\n",
        "  error = y_true - y_pred\n",
        "\n",
        "  lin_loss = tf.abs(error)\n",
        "  exp_loss = (tf.exp(tf.abs(error)) - 1)\n",
        "\n",
        "  return tf.where(error < 0.0, exp_loss, lin_loss)\n",
        "\n",
        "def mean_business_loss(y_true, y_pred):\n",
        "  bls = business_loss(y_true, y_pred)\n",
        "  return tf.reduce_mean(bls)\n",
        "\n",
        "# Ok, how does that look like\n",
        "\n",
        "x_vals = tf.linspace(-5, 5, num=500)\n",
        "err = business_loss(x_vals, tf.zeros_like(x_vals))\n",
        "\n",
        "plt.figure(figsize=(15,10))\n",
        "plt.plot(x_vals, err)\n",
        "plt.vlines(0.0, ymin=0, ymax=tf.reduce_max(err), colors=\"red\", linestyles=\"--\")"
      ],
      "execution_count": null,
      "outputs": [
        {
          "output_type": "execute_result",
          "data": {
            "text/plain": [
              "<matplotlib.collections.LineCollection at 0x7f1111f84630>"
            ]
          },
          "metadata": {
            "tags": []
          },
          "execution_count": 37
        },
        {
          "output_type": "display_data",
          "data": {
            "image/png": "[encoded data removed]",
            "text/plain": [
              "<Figure size 1080x720 with 1 Axes>"
            ]
          },
          "metadata": {
            "tags": [],
            "needs_background": "light"
          }
        }
      ]
    },
    {
      "cell_type": "markdown",
      "metadata": {
        "id": "DCv_Ph8Qxr1a"
      },
      "source": [
        "Ok, so how are our models performing under this new metric/loss\n",
        "\n",
        "Q: What is the difference between metric and loss?"
      ]
    },
    {
      "cell_type": "code",
      "metadata": {
        "colab": {
          "base_uri": "https://localhost:8080/"
        },
        "id": "ZK19r9wlxuM2",
        "outputId": "f009bf0c-9ecf-4ee9-bd22-460f63ecd47c"
      },
      "source": [
        "print(\"Random Forest:\", mean_business_loss(ytest, rfr.predict(Xtest)))\n",
        "print(\"NN:\", mean_business_loss(ytest, mdl.predict(Xtest)))"
      ],
      "execution_count": null,
      "outputs": [
        {
          "output_type": "stream",
          "text": [
            "Random Forest: tf.Tensor(1.6245153666147916, shape=(), dtype=float64)\n",
            "NN: tf.Tensor(0.590431953663324, shape=(), dtype=float64)\n"
          ],
          "name": "stdout"
        }
      ]
    },
    {
      "cell_type": "markdown",
      "metadata": {
        "id": "s33r0vJ8yMUs"
      },
      "source": [
        "Well, that is a nice surprise, our NN model is already better than the RF, but can we improve the results? Every dime counts!"
      ]
    },
    {
      "cell_type": "code",
      "metadata": {
        "colab": {
          "base_uri": "https://localhost:8080/"
        },
        "id": "44b0u3V7yql3",
        "outputId": "e9faf031-fdad-4197-d685-9a93c7c5d166"
      },
      "source": [
        "mdl.compile(\n",
        "    loss=business_loss, \n",
        "    metrics=[\"mean_absolute_percentage_error\"])\n",
        "\n",
        "# Interestingly, this training reuses the weights from the previous training,\n",
        "# if you have not overwritten the mdl variable with a new model definition.\n",
        "mdl.fit(\n",
        "    x=Xtrain, \n",
        "    y=ytrain, \n",
        "    batch_size=128, \n",
        "    epochs=100, \n",
        "    validation_split=0.2,\n",
        "    callbacks=[\n",
        "      EarlyStopping(patience=10, restore_best_weights=True),\n",
        "      ModelCheckpoint(\"best_model_bls.h5\", save_best_only=True)         \n",
        "    ])"
      ],
      "execution_count": null,
      "outputs": [
        {
          "output_type": "stream",
          "text": [
            "Epoch 1/100\n",
            "107/107 [==============================] - 1s 9ms/step - loss: 0.6766 - mean_absolute_percentage_error: 741.9594 - val_loss: 0.9514 - val_mean_absolute_percentage_error: 217.8079\n",
            "Epoch 2/100\n",
            "107/107 [==============================] - 1s 8ms/step - loss: 0.6444 - mean_absolute_percentage_error: 330.7390 - val_loss: 0.8509 - val_mean_absolute_percentage_error: 191.3712\n",
            "Epoch 3/100\n",
            "107/107 [==============================] - 1s 7ms/step - loss: 0.6429 - mean_absolute_percentage_error: 793.7183 - val_loss: 0.8753 - val_mean_absolute_percentage_error: 209.5631\n",
            "Epoch 4/100\n",
            "107/107 [==============================] - 1s 7ms/step - loss: 0.6383 - mean_absolute_percentage_error: 610.0640 - val_loss: 0.8865 - val_mean_absolute_percentage_error: 257.7312\n",
            "Epoch 5/100\n",
            "107/107 [==============================] - 1s 7ms/step - loss: 0.6421 - mean_absolute_percentage_error: 293.6042 - val_loss: 1.0124 - val_mean_absolute_percentage_error: 326.7119\n",
            "Epoch 6/100\n",
            "107/107 [==============================] - 1s 8ms/step - loss: 0.6363 - mean_absolute_percentage_error: 359.6342 - val_loss: 0.8271 - val_mean_absolute_percentage_error: 179.0930\n",
            "Epoch 7/100\n",
            "107/107 [==============================] - 1s 7ms/step - loss: 0.6327 - mean_absolute_percentage_error: 716.0976 - val_loss: 0.9062 - val_mean_absolute_percentage_error: 253.6585\n",
            "Epoch 8/100\n",
            "107/107 [==============================] - 1s 7ms/step - loss: 0.6422 - mean_absolute_percentage_error: 385.2038 - val_loss: 1.1302 - val_mean_absolute_percentage_error: 364.3093\n",
            "Epoch 9/100\n",
            "107/107 [==============================] - 1s 7ms/step - loss: 0.6346 - mean_absolute_percentage_error: 1338.9252 - val_loss: 0.9725 - val_mean_absolute_percentage_error: 272.6057\n",
            "Epoch 10/100\n",
            "107/107 [==============================] - 1s 8ms/step - loss: 0.6334 - mean_absolute_percentage_error: 593.0688 - val_loss: 0.8156 - val_mean_absolute_percentage_error: 204.6197\n",
            "Epoch 11/100\n",
            "107/107 [==============================] - 1s 7ms/step - loss: 0.6372 - mean_absolute_percentage_error: 469.2396 - val_loss: 0.8551 - val_mean_absolute_percentage_error: 204.3499\n",
            "Epoch 12/100\n",
            "107/107 [==============================] - 1s 7ms/step - loss: 0.6334 - mean_absolute_percentage_error: 931.3251 - val_loss: 1.0053 - val_mean_absolute_percentage_error: 321.2378\n",
            "Epoch 13/100\n",
            "107/107 [==============================] - 1s 7ms/step - loss: 0.6317 - mean_absolute_percentage_error: 505.1663 - val_loss: 0.8322 - val_mean_absolute_percentage_error: 211.5510\n",
            "Epoch 14/100\n",
            "107/107 [==============================] - 1s 7ms/step - loss: 0.6308 - mean_absolute_percentage_error: 633.5358 - val_loss: 0.8998 - val_mean_absolute_percentage_error: 263.6828\n",
            "Epoch 15/100\n",
            "107/107 [==============================] - 1s 7ms/step - loss: 0.6371 - mean_absolute_percentage_error: 465.4179 - val_loss: 0.9754 - val_mean_absolute_percentage_error: 272.4091\n",
            "Epoch 16/100\n",
            "107/107 [==============================] - 1s 7ms/step - loss: 0.6295 - mean_absolute_percentage_error: 1101.8354 - val_loss: 1.0480 - val_mean_absolute_percentage_error: 341.6161\n",
            "Epoch 17/100\n",
            "107/107 [==============================] - 1s 7ms/step - loss: 0.6297 - mean_absolute_percentage_error: 717.9777 - val_loss: 0.9793 - val_mean_absolute_percentage_error: 281.1482\n",
            "Epoch 18/100\n",
            "107/107 [==============================] - 1s 7ms/step - loss: 0.6318 - mean_absolute_percentage_error: 370.3478 - val_loss: 0.9229 - val_mean_absolute_percentage_error: 261.9792\n",
            "Epoch 19/100\n",
            "107/107 [==============================] - 1s 7ms/step - loss: 0.6289 - mean_absolute_percentage_error: 482.0621 - val_loss: 0.9103 - val_mean_absolute_percentage_error: 258.2480\n",
            "Epoch 20/100\n",
            "107/107 [==============================] - 1s 7ms/step - loss: 0.6303 - mean_absolute_percentage_error: 908.2159 - val_loss: 0.9324 - val_mean_absolute_percentage_error: 282.7460\n"
          ],
          "name": "stdout"
        },
        {
          "output_type": "execute_result",
          "data": {
            "text/plain": [
              "<tensorflow.python.keras.callbacks.History at 0x7f1111eb3eb8>"
            ]
          },
          "metadata": {
            "tags": []
          },
          "execution_count": 39
        }
      ]
    },
    {
      "cell_type": "code",
      "metadata": {
        "colab": {
          "base_uri": "https://localhost:8080/"
        },
        "id": "CncsYhGRzihQ",
        "outputId": "55efbbdb-621f-4674-9fe9-22b29db598f3"
      },
      "source": [
        "print(\"Random Forest:\", mean_business_loss(ytest, rfr.predict(Xtest)))\n",
        "print(\"NN:\", mean_business_loss(ytest, mdl.predict(Xtest)))"
      ],
      "execution_count": null,
      "outputs": [
        {
          "output_type": "stream",
          "text": [
            "Random Forest: tf.Tensor(1.6245153666147916, shape=(), dtype=float64)\n",
            "NN: tf.Tensor(0.5607875440601103, shape=(), dtype=float64)\n"
          ],
          "name": "stdout"
        }
      ]
    },
    {
      "cell_type": "markdown",
      "metadata": {
        "id": "1gjvPzIX0Vs3"
      },
      "source": [
        "In case that you do not believe my claim that tensorflow and pytorch are converging more and more: The same model definition in pytorch"
      ]
    },
    {
      "cell_type": "code",
      "metadata": {
        "id": "ASA5kjPY0H76"
      },
      "source": [
        "import torch\n",
        "import torch.nn as nn\n",
        "\n",
        "mdl_pyt = nn.Sequential(\n",
        "    nn.Dropout(0.25)\n",
        "    , nn.Linear(Xtrain.shape[1], 125)\n",
        "    , nn.ELU()\n",
        "    , nn.BatchNorm1d(125)\n",
        "    , nn.Dropout(0.25)\n",
        "    , nn.Linear(125, 50)\n",
        "    , nn.BatchNorm1d(50)\n",
        "    , nn.ELU()\n",
        "    , nn.Dropout(0.25)\n",
        "    , nn.Linear(50, 1)\n",
        ")"
      ],
      "execution_count": null,
      "outputs": []
    },
    {
      "cell_type": "code",
      "metadata": {
        "id": "CZH1Bfux07pF",
        "colab": {
          "base_uri": "https://localhost:8080/"
        },
        "outputId": "070ff8c9-5940-44fb-cba5-4e063fdf852b"
      },
      "source": [
        "mdl_pyt.eval()\n",
        "mdl_pyt(torch.FloatTensor(Xtrain))"
      ],
      "execution_count": null,
      "outputs": [
        {
          "output_type": "execute_result",
          "data": {
            "text/plain": [
              "tensor([[-0.0311],\n",
              "        [-0.1326],\n",
              "        [ 0.2578],\n",
              "        ...,\n",
              "        [ 0.2166],\n",
              "        [ 0.1845],\n",
              "        [ 0.3309]], grad_fn=<AddmmBackward>)"
            ]
          },
          "metadata": {
            "tags": []
          },
          "execution_count": 55
        }
      ]
    },
    {
      "cell_type": "code",
      "metadata": {
        "colab": {
          "base_uri": "https://localhost:8080/"
        },
        "id": "JdAvUOOgDldT",
        "outputId": "9626f304-d4b9-4ead-cafa-0797231ce7e3"
      },
      "source": [
        "mdl(Xtrain, training=True)"
      ],
      "execution_count": null,
      "outputs": [
        {
          "output_type": "execute_result",
          "data": {
            "text/plain": [
              "<tf.Tensor: shape=(17000, 1), dtype=float32, numpy=\n",
              "array([[-1.6473341],\n",
              "       [-1.2307119],\n",
              "       [-1.402904 ],\n",
              "       ...,\n",
              "       [-0.1330949],\n",
              "       [-1.1942316],\n",
              "       [-0.374106 ]], dtype=float32)>"
            ]
          },
          "metadata": {
            "tags": []
          },
          "execution_count": 58
        }
      ]
    },
    {
      "cell_type": "markdown",
      "metadata": {
        "id": "yyJQbRhK01qS"
      },
      "source": [
        "Q: Repeatedly executing the above code reveals a rather peculiar behaviour, what could be the reason for it?"
      ]
    },
    {
      "cell_type": "markdown",
      "metadata": {
        "id": "uNH1gWmY1oWU"
      },
      "source": [
        "### Example 3 - The Functional API\n",
        "\n",
        "Sequentially stacking different modules is nice, but what about if we want to use a model which is not sequentially organized? Functional API"
      ]
    },
    {
      "cell_type": "markdown",
      "metadata": {
        "id": "eQeenuyB2uX5"
      },
      "source": [
        "In the previous example, we have sent all the data through a complicated NN, but couldn't it be that some of the original variables are already fairly predictive and all this transforming actually costs us predictive power? Never forget, the RF was way better than the NN!"
      ]
    },
    {
      "cell_type": "code",
      "metadata": {
        "colab": {
          "base_uri": "https://localhost:8080/"
        },
        "id": "1M7WATZe5TZy",
        "outputId": "e67e453d-d8a5-4b06-aab5-ba121226bc72"
      },
      "source": [
        "mdl.summary()"
      ],
      "execution_count": null,
      "outputs": [
        {
          "output_type": "stream",
          "text": [
            "Model: \"sequential\"\n",
            "_________________________________________________________________\n",
            "Layer (type)                 Output Shape              Param #   \n",
            "=================================================================\n",
            "dropout (Dropout)            (None, 8)                 0         \n",
            "_________________________________________________________________\n",
            "dense (Dense)                (None, 1000)              9000      \n",
            "_________________________________________________________________\n",
            "batch_normalization (BatchNo (None, 1000)              4000      \n",
            "_________________________________________________________________\n",
            "dropout_1 (Dropout)          (None, 1000)              0         \n",
            "_________________________________________________________________\n",
            "dense_1 (Dense)              (None, 125)               125125    \n",
            "_________________________________________________________________\n",
            "batch_normalization_1 (Batch (None, 125)               500       \n",
            "_________________________________________________________________\n",
            "dropout_2 (Dropout)          (None, 125)               0         \n",
            "_________________________________________________________________\n",
            "dense_2 (Dense)              (None, 50)                6300      \n",
            "_________________________________________________________________\n",
            "batch_normalization_2 (Batch (None, 50)                200       \n",
            "_________________________________________________________________\n",
            "dropout_3 (Dropout)          (None, 50)                0         \n",
            "_________________________________________________________________\n",
            "dense_3 (Dense)              (None, 1)                 51        \n",
            "=================================================================\n",
            "Total params: 145,176\n",
            "Trainable params: 142,826\n",
            "Non-trainable params: 2,350\n",
            "_________________________________________________________________\n"
          ],
          "name": "stdout"
        }
      ]
    },
    {
      "cell_type": "code",
      "metadata": {
        "colab": {
          "base_uri": "https://localhost:8080/"
        },
        "id": "-B14Hycr7HSF",
        "outputId": "e10b3e65-a6e4-4b2c-ba49-9938f0b8d192"
      },
      "source": [
        "mdl.pop()\n",
        "mdl.summary()"
      ],
      "execution_count": null,
      "outputs": [
        {
          "output_type": "stream",
          "text": [
            "Model: \"sequential\"\n",
            "_________________________________________________________________\n",
            "Layer (type)                 Output Shape              Param #   \n",
            "=================================================================\n",
            "dropout (Dropout)            (None, 8)                 0         \n",
            "_________________________________________________________________\n",
            "dense (Dense)                (None, 1000)              9000      \n",
            "_________________________________________________________________\n",
            "batch_normalization (BatchNo (None, 1000)              4000      \n",
            "_________________________________________________________________\n",
            "dropout_1 (Dropout)          (None, 1000)              0         \n",
            "_________________________________________________________________\n",
            "dense_1 (Dense)              (None, 125)               125125    \n",
            "_________________________________________________________________\n",
            "batch_normalization_1 (Batch (None, 125)               500       \n",
            "_________________________________________________________________\n",
            "dropout_2 (Dropout)          (None, 125)               0         \n",
            "_________________________________________________________________\n",
            "dense_2 (Dense)              (None, 50)                6300      \n",
            "_________________________________________________________________\n",
            "batch_normalization_2 (Batch (None, 50)                200       \n",
            "_________________________________________________________________\n",
            "dropout_3 (Dropout)          (None, 50)                0         \n",
            "=================================================================\n",
            "Total params: 145,125\n",
            "Trainable params: 142,775\n",
            "Non-trainable params: 2,350\n",
            "_________________________________________________________________\n"
          ],
          "name": "stdout"
        }
      ]
    },
    {
      "cell_type": "code",
      "metadata": {
        "id": "N_f2lbjt00wI"
      },
      "source": [
        "from tensorflow.keras.models import Model\n",
        "from tensorflow.keras.layers import Input\n",
        "\n",
        "orig_data = Input(shape=Xtrain.shape[1], name=\"data\")\n",
        "deep_fts = mdl(orig_data)\n",
        "\n",
        "concat = tf.keras.layers.concatenate([deep_fts, orig_data])\n",
        "\n",
        "res = Dense(25, activation=\"elu\")(concat)\n",
        "res = Dense(1)(res)\n",
        "\n",
        "model = Model(\n",
        "    inputs=[orig_data],\n",
        "    outputs=[res])"
      ],
      "execution_count": null,
      "outputs": []
    },
    {
      "cell_type": "markdown",
      "metadata": {
        "id": "h_SM9MVtlHMA"
      },
      "source": [
        "As the term inputs and outputs imply, you can define multiple inputs and outputs. The outputs can have different loss functions and you would combine their losses via loss_weights-parameter in the model.compile step. "
      ]
    },
    {
      "cell_type": "code",
      "metadata": {
        "colab": {
          "base_uri": "https://localhost:8080/",
          "height": 1000
        },
        "id": "b007bIPp0IH7",
        "outputId": "aa2025c7-1696-4443-b18a-ce47a968723d"
      },
      "source": [
        "from tensorflow.keras.utils import plot_model\n",
        "\n",
        "plot_model(model, expand_nested=True)"
      ],
      "execution_count": null,
      "outputs": [
        {
          "output_type": "execute_result",
          "data": {
            "image/png": "[encoded data removed]",
            "text/plain": [
              "<IPython.core.display.Image object>"
            ]
          },
          "metadata": {
            "tags": []
          },
          "execution_count": 66
        }
      ]
    },
    {
      "cell_type": "code",
      "metadata": {
        "id": "WvhuZd1W8hDS"
      },
      "source": [
        "model.compile(\n",
        "    loss=\"mse\", \n",
        "    optimizer=tf.keras.optimizers.Adam())"
      ],
      "execution_count": null,
      "outputs": []
    },
    {
      "cell_type": "code",
      "metadata": {
        "colab": {
          "base_uri": "https://localhost:8080/"
        },
        "id": "gmSrE_L99E5R",
        "outputId": "2f21f9c8-1b31-4a58-ed82-3dd108fa5d63"
      },
      "source": [
        "hist = model.fit(\n",
        "    x=Xtrain, # If you have multiple ones: (Xtrain, Xtrain)\n",
        "    y=ytrain,\n",
        "    epochs=100,\n",
        "    batch_size=32,\n",
        "    validation_split=0.2,\n",
        "    callbacks=[\n",
        "      EarlyStopping(patience=25, restore_best_weights=True),\n",
        "      ModelCheckpoint(\"best_model_bls.h5\", save_best_only=True)         \n",
        "    ]\n",
        ")"
      ],
      "execution_count": null,
      "outputs": [
        {
          "output_type": "stream",
          "text": [
            "Epoch 1/100\n",
            "425/425 [==============================] - 2s 5ms/step - loss: 0.5601 - val_loss: 0.5642\n",
            "Epoch 2/100\n",
            "425/425 [==============================] - 2s 4ms/step - loss: 0.4137 - val_loss: 0.5009\n",
            "Epoch 3/100\n",
            "425/425 [==============================] - 2s 4ms/step - loss: 0.3947 - val_loss: 0.4546\n",
            "Epoch 4/100\n",
            "425/425 [==============================] - 2s 4ms/step - loss: 0.3856 - val_loss: 0.5437\n",
            "Epoch 5/100\n",
            "425/425 [==============================] - 2s 4ms/step - loss: 0.3787 - val_loss: 0.5309\n",
            "Epoch 6/100\n",
            "425/425 [==============================] - 2s 4ms/step - loss: 0.3618 - val_loss: 0.5966\n",
            "Epoch 7/100\n",
            "425/425 [==============================] - 2s 4ms/step - loss: 0.3650 - val_loss: 0.4335\n",
            "Epoch 8/100\n",
            "425/425 [==============================] - 2s 4ms/step - loss: 0.3473 - val_loss: 0.4235\n",
            "Epoch 9/100\n",
            "425/425 [==============================] - 2s 4ms/step - loss: 0.3470 - val_loss: 0.4928\n",
            "Epoch 10/100\n",
            "425/425 [==============================] - 2s 4ms/step - loss: 0.3407 - val_loss: 0.4886\n",
            "Epoch 11/100\n",
            "425/425 [==============================] - 2s 4ms/step - loss: 0.3392 - val_loss: 0.4879\n",
            "Epoch 12/100\n",
            "425/425 [==============================] - 2s 4ms/step - loss: 0.3350 - val_loss: 0.5434\n",
            "Epoch 13/100\n",
            "425/425 [==============================] - 2s 4ms/step - loss: 0.3303 - val_loss: 0.4645\n",
            "Epoch 14/100\n",
            "425/425 [==============================] - 2s 4ms/step - loss: 0.3254 - val_loss: 0.4802\n",
            "Epoch 15/100\n",
            "425/425 [==============================] - 2s 4ms/step - loss: 0.3263 - val_loss: 0.4680\n",
            "Epoch 16/100\n",
            "425/425 [==============================] - 2s 4ms/step - loss: 0.3274 - val_loss: 0.4571\n",
            "Epoch 17/100\n",
            "425/425 [==============================] - 2s 4ms/step - loss: 0.3214 - val_loss: 0.4545\n",
            "Epoch 18/100\n",
            "425/425 [==============================] - 2s 4ms/step - loss: 0.3163 - val_loss: 0.4493\n",
            "Epoch 19/100\n",
            "425/425 [==============================] - 2s 4ms/step - loss: 0.3148 - val_loss: 0.4921\n",
            "Epoch 20/100\n",
            "425/425 [==============================] - 2s 4ms/step - loss: 0.3159 - val_loss: 0.4756\n",
            "Epoch 21/100\n",
            "425/425 [==============================] - 2s 4ms/step - loss: 0.3179 - val_loss: 0.4916\n",
            "Epoch 22/100\n",
            "425/425 [==============================] - 2s 4ms/step - loss: 0.3076 - val_loss: 0.4381\n",
            "Epoch 23/100\n",
            "425/425 [==============================] - 2s 4ms/step - loss: 0.3118 - val_loss: 0.4984\n",
            "Epoch 24/100\n",
            "425/425 [==============================] - 2s 4ms/step - loss: 0.3171 - val_loss: 0.4428\n",
            "Epoch 25/100\n",
            "425/425 [==============================] - 2s 4ms/step - loss: 0.3011 - val_loss: 0.4782\n",
            "Epoch 26/100\n",
            "425/425 [==============================] - 2s 4ms/step - loss: 0.3007 - val_loss: 0.4594\n",
            "Epoch 27/100\n",
            "425/425 [==============================] - 2s 4ms/step - loss: 0.3036 - val_loss: 0.4499\n",
            "Epoch 28/100\n",
            "425/425 [==============================] - 2s 4ms/step - loss: 0.3012 - val_loss: 0.4541\n",
            "Epoch 29/100\n",
            "425/425 [==============================] - 2s 4ms/step - loss: 0.2975 - val_loss: 0.4780\n",
            "Epoch 30/100\n",
            "425/425 [==============================] - 2s 4ms/step - loss: 0.2974 - val_loss: 0.4331\n",
            "Epoch 31/100\n",
            "425/425 [==============================] - 2s 4ms/step - loss: 0.2958 - val_loss: 0.4409\n",
            "Epoch 32/100\n",
            "425/425 [==============================] - 2s 4ms/step - loss: 0.2955 - val_loss: 0.4448\n",
            "Epoch 33/100\n",
            "425/425 [==============================] - 2s 4ms/step - loss: 0.2940 - val_loss: 0.4490\n"
          ],
          "name": "stdout"
        }
      ]
    },
    {
      "cell_type": "code",
      "metadata": {
        "colab": {
          "base_uri": "https://localhost:8080/"
        },
        "id": "lNF4vJ349_98",
        "outputId": "3794e150-0b14-4641-b460-615af72f9d61"
      },
      "source": [
        "print(\"Random Forest:\", mean_business_loss(ytest, rfr.predict(Xtest)))\n",
        "print(\"NN:\", mean_business_loss(ytest, model.predict(Xtest)))"
      ],
      "execution_count": null,
      "outputs": [
        {
          "output_type": "stream",
          "text": [
            "Random Forest: tf.Tensor(1.6245153666147916, shape=(), dtype=float64)\n",
            "NN: tf.Tensor(0.4425990219098041, shape=(), dtype=float64)\n"
          ],
          "name": "stdout"
        }
      ]
    },
    {
      "cell_type": "markdown",
      "metadata": {
        "id": "gvXlu1QlVVG-"
      },
      "source": [
        "### Example - Bag of Transactions Models - Incomplete :(\n",
        "\n",
        "Let's say we want to develop a model which takes into account all the transactions of different customers and associates them with some target. E.g. the last 3 months of transactions and whether a customer was considered to be suspicious with respect to money laundering or fraud, or whether they have bought some product or churned, or whatever :)\n",
        "\n",
        "We could simply use aggregations as features, but there might be some interest in identifying individual transactions. RNNs could do that, but they also assume sequential dependence between transactions, while this does not necessarily be the case.\n",
        "\n",
        "How about some attention? :)"
      ]
    },
    {
      "cell_type": "markdown",
      "metadata": {
        "id": "5RVq6qkYXBv1"
      },
      "source": [
        "#### A very quick primer in Attention:\n",
        "\n",
        "![self-attention.PNG](data:image/png;base64,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)\n",
        "\n"
      ]
    },
    {
      "cell_type": "code",
      "metadata": {
        "id": "5QLqrBAdXATr"
      },
      "source": [
        "from tensorflow.keras.layers import Attention, Embedding, Flatten, GlobalAveragePooling1D\n",
        "\n",
        "# Disclaimer: What definitely does not work in this example:\n",
        "# - Attention layer in tf.keras does not have all the necessary features yet\n",
        "# - Dimensions are not taken care of :)\n",
        "\n",
        "# Input would be a ragged tensor containing the different transactions of the\n",
        "# customers, each tensor inside the ragged is assumet to be an integer-encoded\n",
        "# categorical matrix \n",
        "inp = Input(shape=..., name=\"data\")\n",
        "\n",
        "val_emb = Embedding(\n",
        "  input_dim=512,\n",
        "  output_dim=50)\n",
        "value_embed = val_emb(inp)\n",
        "\n",
        "qry_emb = Embedding(\n",
        "  input_dim=512,\n",
        "  output_dim=50)\n",
        "qry_embed = qry_emb(inp)\n",
        "\n",
        "# Attention does not work this way atm\n",
        "attent_value, scores = Attention(causal=False)(\n",
        "  [qury_embed, value_embed],\n",
        "  return_attention_scores=True)\n",
        "\n",
        "# Reduce all the 50dim value vectors to one 50dim vector \n",
        "self_qury = GlobalAveragePooling1D()(\n",
        "    attent_value)\n",
        "\n",
        "# Attention round 2 :)\n",
        "# If it would work, the outcome would be one 50dim vector\n",
        "attent_value, scores = Attention(causal=False)(\n",
        "  [self_qry, value_embed],\n",
        "  return_attention_scores=True)\n",
        "\n",
        "fts = Flatten()(attent_value)\n",
        "probs = tf.nn.softmax(scores)\n",
        "\n",
        "hidden = Dense(128, activation=\"elu\")(fts)\n",
        "hidden = Dense(64, activation=\"elu\")(hidden)\n",
        "res = Dense(1, activation=\"softmax\")(hidden)\n",
        "\n",
        "model = Model(\n",
        "  inputs=[input],\n",
        "  outputs=res)"
      ],
      "execution_count": null,
      "outputs": []
    },
    {
      "cell_type": "markdown",
      "metadata": {
        "id": "b6PlDZ96jHB8"
      },
      "source": [
        "### What's next?\n",
        "\n",
        "This was just a brief glimpse into the world of tensorflow. Just a number of things which we have not even touched yet:\n",
        "\n",
        "1. Subclassing API for more customization\n",
        "2. Loading/preprocessing of data\n",
        "3. Special purpose tools for e.g. RNN, CNN, GNN\n",
        "4. Reinforcement Learning landscape (tf.agents)\n",
        "5. Deployment support\n",
        "6. and so on ... "
      ]
    },
    {
      "cell_type": "markdown",
      "metadata": {
        "id": "nalEnp0jj_7V"
      },
      "source": [
        "#Any Questions?"
      ]
    },
    {
      "cell_type": "markdown",
      "metadata": {
        "id": "c5pFFYUyUQ8x"
      },
      "source": [
        "## Excursion - Tensorflow Extended (TFX)\n",
        "\n",
        "Example package for the great ecosystem that comes with these frameworks :)\n",
        "\n",
        "**We are following one of the official tutorials from: [tensorflow extended - official website](https://www.tensorflow.org/tfx)**\n",
        "\n",
        "Why should you care about it?\n",
        "\n",
        "\"*When you’re ready to move your models from research to production, use TFX to create and manage a production pipeline.*\""
      ]
    },
    {
      "cell_type": "markdown",
      "metadata": {
        "id": "5oYy3luQed9q"
      },
      "source": [
        "![tfx_overview.PNG](data:image/png;base64,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)"
      ]
    },
    {
      "cell_type": "code",
      "metadata": {
        "colab": {
          "base_uri": "https://localhost:8080/",
          "height": 1000
        },
        "id": "MMlWehp0VhLB",
        "outputId": "d5c651fc-26ba-424d-8e95-716b3118bfc2"
      },
      "source": [
        "!pip install -U tfx"
      ],
      "execution_count": 1,
      "outputs": [
        {
          "output_type": "stream",
          "text": [
            "Collecting tfx\n",
            "\u001b[?25l  Downloading https://files.pythonhosted.org/packages/e5/fa/92c42f222ad869706416d6325269b9580c94edad86e15c6338c7e1b7574f/tfx-0.30.0-py3-none-any.whl (2.4MB)\n",
            "\u001b[K     |████████████████████████████████| 2.4MB 7.5MB/s \n",
            "\u001b[?25hCollecting ml-metadata<0.31,>=0.30\n",
            "\u001b[?25l  Downloading https://files.pythonhosted.org/packages/dd/dc/08dab5572ae1a603d710c6b39629750abf16739a64fc8e331d0f378a8eef/ml_metadata-0.30.0-cp37-cp37m-manylinux2010_x86_64.whl (2.9MB)\n",
            "\u001b[K     |████████████████████████████████| 2.9MB 45.9MB/s \n",
            "\u001b[?25hCollecting tensorflow-serving-api!=2.0.*,!=2.1.*,!=2.2.*,!=2.3.*,!=2.5.*,<3,>=1.15\n",
            "  Downloading https://files.pythonhosted.org/packages/5f/a2/16169df906a0a342007ced647199e16163841fc4be7106a493ee42ef6a27/tensorflow_serving_api-2.4.1-py2.py3-none-any.whl\n",
            "Collecting kubernetes<12,>=10.0.1\n",
            "\u001b[?25l  Downloading https://files.pythonhosted.org/packages/59/46/d4b9364fcab59b5f9248e014c7592df8de84ad6548a6fe3de2d805bb75fc/kubernetes-11.0.0-py3-none-any.whl (1.5MB)\n",
            "\u001b[K     |████████████████████████████████| 1.5MB 49.4MB/s \n",
            "\u001b[?25hRequirement already satisfied, skipping upgrade: jinja2<3,>=2.7.3 in /usr/local/lib/python3.7/dist-packages (from tfx) (2.11.3)\n",
            "Requirement already satisfied, skipping upgrade: absl-py<0.13,>=0.9 in /usr/local/lib/python3.7/dist-packages (from tfx) (0.12.0)\n",
            "Requirement already satisfied, skipping upgrade: portpicker<2,>=1.3.1 in /usr/local/lib/python3.7/dist-packages (from tfx) (1.3.9)\n",
            "Collecting tensorflow-transform<0.31,>=0.30\n",
            "\u001b[?25l  Downloading https://files.pythonhosted.org/packages/e6/b2/4b734ddf85d27cc28acd586a4d50cb677e8607db8d764dc8613424b20e29/tensorflow_transform-0.30.0-py3-none-any.whl (398kB)\n",
            "\u001b[K     |████████████████████████████████| 399kB 48.2MB/s \n",
            "\u001b[?25hCollecting tensorflow-hub<0.10,>=0.9.0\n",
            "\u001b[?25l  Downloading https://files.pythonhosted.org/packages/ac/83/a7df82744a794107641dad1decaad017d82e25f0e1f761ac9204829eef96/tensorflow_hub-0.9.0-py2.py3-none-any.whl (103kB)\n",
            "\u001b[K     |████████████████████████████████| 112kB 45.1MB/s \n",
            "\u001b[?25hCollecting attrs<21,>=19.3.0\n",
            "\u001b[?25l  Downloading https://files.pythonhosted.org/packages/c3/aa/cb45262569fcc047bf070b5de61813724d6726db83259222cd7b4c79821a/attrs-20.3.0-py2.py3-none-any.whl (49kB)\n",
            "\u001b[K     |████████████████████████████████| 51kB 8.0MB/s \n",
            "\u001b[?25hRequirement already satisfied, skipping upgrade: six<2,>=1.10 in /usr/local/lib/python3.7/dist-packages (from tfx) (1.15.0)\n",
            "Collecting tfx-bsl<0.31,>=0.30\n",
            "\u001b[?25l  Downloading https://files.pythonhosted.org/packages/53/0b/a3afbed67c44ce5d825f9c38529ce7f544973a10a44a4234331fc7463789/tfx_bsl-0.30.0-cp37-cp37m-manylinux2010_x86_64.whl (2.2MB)\n",
            "\u001b[K     |████████████████████████████████| 2.3MB 47.2MB/s \n",
            "\u001b[?25hRequirement already satisfied, skipping upgrade: grpcio<2,>=1.28.1 in /usr/local/lib/python3.7/dist-packages (from tfx) (1.32.0)\n",
            "Collecting ml-pipelines-sdk==0.30.0\n",
            "\u001b[?25l  Downloading https://files.pythonhosted.org/packages/88/43/f769ff1844166b508f68d2d91b92ef8c6944dda07c5c095dd39abbe715bd/ml_pipelines_sdk-0.30.0-py3-none-any.whl (1.2MB)\n",
            "\u001b[K     |████████████████████████████████| 1.2MB 49.6MB/s \n",
            "\u001b[?25hCollecting keras-tuner<1.0.2,>=1\n",
            "\u001b[?25l  Downloading https://files.pythonhosted.org/packages/a7/f7/4b41b6832abf4c9bef71a664dc563adb25afc5812831667c6db572b1a261/keras-tuner-1.0.1.tar.gz (54kB)\n",
            "\u001b[K     |████████████████████████████████| 61kB 8.9MB/s \n",
            "\u001b[?25hRequirement already satisfied, skipping upgrade: numpy<1.20,>=1.16 in /usr/local/lib/python3.7/dist-packages (from tfx) (1.19.5)\n",
            "Requirement already satisfied, skipping upgrade: pyyaml<6,>=3.12 in /usr/local/lib/python3.7/dist-packages (from tfx) (3.13)\n",
            "Collecting click<8,>=7\n",
            "\u001b[?25l  Downloading https://files.pythonhosted.org/packages/d2/3d/fa76db83bf75c4f8d338c2fd15c8d33fdd7ad23a9b5e57eb6c5de26b430e/click-7.1.2-py2.py3-none-any.whl (82kB)\n",
            "\u001b[K     |████████████████████████████████| 92kB 10.5MB/s \n",
            "\u001b[?25hCollecting tensorflow-data-validation<0.31,>=0.30\n",
            "\u001b[?25l  Downloading https://files.pythonhosted.org/packages/d8/6b/a352a0077d902c94f4ab58e3f73d08e6b06a932b99ea8b6b385ac6d42686/tensorflow_data_validation-0.30.0-cp37-cp37m-manylinux2010_x86_64.whl (1.4MB)\n",
            "\u001b[K     |████████████████████████████████| 1.4MB 45.6MB/s \n",
            "\u001b[?25hRequirement already satisfied, skipping upgrade: google-api-python-client<2,>=1.7.8 in /usr/local/lib/python3.7/dist-packages (from tfx) (1.12.8)\n",
            "Requirement already satisfied, skipping upgrade: packaging<21,>=20 in /usr/local/lib/python3.7/dist-packages (from tfx) (20.9)\n",
            "Collecting docker<5,>=4.1\n",
            "\u001b[?25l  Downloading https://files.pythonhosted.org/packages/c4/22/410313ad554477e87ec406d38d85f810e61ddb0d2fc44e64994857476de9/docker-4.4.4-py2.py3-none-any.whl (147kB)\n",
            "\u001b[K     |████████████████████████████████| 153kB 22.2MB/s \n",
            "\u001b[?25hCollecting google-cloud-bigquery<3,>=1.28.0\n",
            "\u001b[?25l  Downloading https://files.pythonhosted.org/packages/b5/cc/0f4a44ab1f1980229d228933a09909bfab9b2b39b0e2b7807e1094b169d6/google_cloud_bigquery-2.17.0-py2.py3-none-any.whl (223kB)\n",
            "\u001b[K     |████████████████████████████████| 225kB 51.3MB/s \n",
            "\u001b[?25hRequirement already satisfied, skipping upgrade: protobuf<4,>=3.12.2 in /usr/local/lib/python3.7/dist-packages (from tfx) (3.12.4)\n",
            "Collecting tensorflow-model-analysis<0.31,>=0.30\n",
            "\u001b[?25l  Downloading https://files.pythonhosted.org/packages/ab/89/afb019f92dbf78fe3d0981a6cfb8e5cc74f2595ef6d0c338e7feb85687da/tensorflow_model_analysis-0.30.0-py3-none-any.whl (1.7MB)\n",
            "\u001b[K     |████████████████████████████████| 1.7MB 47.7MB/s \n",
            "\u001b[?25hRequirement already satisfied, skipping upgrade: tensorflow!=2.0.*,!=2.1.*,!=2.2.*,!=2.3.*,!=2.5.*,<3,>=1.15.2 in /usr/local/lib/python3.7/dist-packages (from tfx) (2.4.1)\n",
            "Collecting pyarrow<3,>=1\n",
            "\u001b[?25l  Downloading https://files.pythonhosted.org/packages/2e/8d/c002e27767595f22aa09ed0d364327922f673d12b36526c967a2bf6b2ed7/pyarrow-2.0.0-cp37-cp37m-manylinux2014_x86_64.whl (17.7MB)\n",
            "\u001b[K     |████████████████████████████████| 17.7MB 176kB/s \n",
            "\u001b[?25hCollecting apache-beam[gcp]<3,>=2.28\n",
            "\u001b[?25l  Downloading https://files.pythonhosted.org/packages/4a/7f/342e6bf4bbdc55418c929b3281948070ef4ca83e198dc9135352c25799f9/apache_beam-2.29.0-cp37-cp37m-manylinux2010_x86_64.whl (9.6MB)\n",
            "\u001b[K     |████████████████████████████████| 9.6MB 50.1MB/s \n",
            "\u001b[?25hCollecting google-cloud-aiplatform<0.8,>=0.5.0\n",
            "\u001b[?25l  Downloading https://files.pythonhosted.org/packages/2b/d3/7e702183e065ebfdb4dae899dfdb1d43c7525568c484314db579a4a39998/google_cloud_aiplatform-0.7.1-py2.py3-none-any.whl (1.3MB)\n",
            "\u001b[K     |████████████████████████████████| 1.3MB 48.1MB/s \n",
            "\u001b[?25hRequirement already satisfied, skipping upgrade: urllib3>=1.24.2 in /usr/local/lib/python3.7/dist-packages (from kubernetes<12,>=10.0.1->tfx) (1.24.3)\n",
            "Requirement already satisfied, skipping upgrade: google-auth>=1.0.1 in /usr/local/lib/python3.7/dist-packages (from kubernetes<12,>=10.0.1->tfx) (1.30.0)\n",
            "Requirement already satisfied, skipping upgrade: certifi>=14.05.14 in /usr/local/lib/python3.7/dist-packages (from kubernetes<12,>=10.0.1->tfx) (2020.12.5)\n",
            "Collecting websocket-client!=0.40.0,!=0.41.*,!=0.42.*,>=0.32.0\n",
            "\u001b[?25l  Downloading https://files.pythonhosted.org/packages/85/ee/7aa724dc2dbed9b028f463eada5482770c13b7381a0c79457d12b3b62de2/websocket_client-1.0.1-py2.py3-none-any.whl (68kB)\n",
            "\u001b[K     |████████████████████████████████| 71kB 10.0MB/s \n",
            "\u001b[?25hRequirement already satisfied, skipping upgrade: requests in /usr/local/lib/python3.7/dist-packages (from kubernetes<12,>=10.0.1->tfx) (2.23.0)\n",
            "Requirement already satisfied, skipping upgrade: requests-oauthlib in /usr/local/lib/python3.7/dist-packages (from kubernetes<12,>=10.0.1->tfx) (1.3.0)\n",
            "Requirement already satisfied, skipping upgrade: setuptools>=21.0.0 in /usr/local/lib/python3.7/dist-packages (from kubernetes<12,>=10.0.1->tfx) (56.1.0)\n",
            "Requirement already satisfied, skipping upgrade: python-dateutil>=2.5.3 in /usr/local/lib/python3.7/dist-packages (from kubernetes<12,>=10.0.1->tfx) (2.8.1)\n",
            "Requirement already satisfied, skipping upgrade: MarkupSafe>=0.23 in /usr/local/lib/python3.7/dist-packages (from jinja2<3,>=2.7.3->tfx) (2.0.0)\n",
            "Requirement already satisfied, skipping upgrade: tensorflow-metadata<0.31,>=0.30 in /usr/local/lib/python3.7/dist-packages (from tensorflow-transform<0.31,>=0.30->tfx) (0.30.0)\n",
            "Requirement already satisfied, skipping upgrade: pydot<2,>=1.2 in /usr/local/lib/python3.7/dist-packages (from tensorflow-transform<0.31,>=0.30->tfx) (1.3.0)\n",
            "Requirement already satisfied, skipping upgrade: pandas<2,>=1.0 in /usr/local/lib/python3.7/dist-packages (from tfx-bsl<0.31,>=0.30->tfx) (1.1.5)\n",
            "Requirement already satisfied, skipping upgrade: future in /usr/local/lib/python3.7/dist-packages (from keras-tuner<1.0.2,>=1->tfx) (0.16.0)\n",
            "Requirement already satisfied, skipping upgrade: tabulate in /usr/local/lib/python3.7/dist-packages (from keras-tuner<1.0.2,>=1->tfx) (0.8.9)\n",
            "Collecting terminaltables\n",
            "  Downloading https://files.pythonhosted.org/packages/9b/c4/4a21174f32f8a7e1104798c445dacdc1d4df86f2f26722767034e4de4bff/terminaltables-3.1.0.tar.gz\n",
            "Collecting colorama\n",
            "  Downloading https://files.pythonhosted.org/packages/44/98/5b86278fbbf250d239ae0ecb724f8572af1c91f4a11edf4d36a206189440/colorama-0.4.4-py2.py3-none-any.whl\n",
            "Requirement already satisfied, skipping upgrade: tqdm in /usr/local/lib/python3.7/dist-packages (from keras-tuner<1.0.2,>=1->tfx) (4.41.1)\n",
            "Requirement already satisfied, skipping upgrade: scipy in /usr/local/lib/python3.7/dist-packages (from keras-tuner<1.0.2,>=1->tfx) (1.4.1)\n",
            "Requirement already satisfied, skipping upgrade: scikit-learn in /usr/local/lib/python3.7/dist-packages (from keras-tuner<1.0.2,>=1->tfx) (0.22.2.post1)\n",
            "Collecting joblib<0.15,>=0.12\n",
            "\u001b[?25l  Downloading https://files.pythonhosted.org/packages/28/5c/cf6a2b65a321c4a209efcdf64c2689efae2cb62661f8f6f4bb28547cf1bf/joblib-0.14.1-py2.py3-none-any.whl (294kB)\n",
            "\u001b[K     |████████████████████████████████| 296kB 52.6MB/s \n",
            "\u001b[?25hRequirement already satisfied, skipping upgrade: google-api-core<2dev,>=1.21.0 in /usr/local/lib/python3.7/dist-packages (from google-api-python-client<2,>=1.7.8->tfx) (1.26.3)\n",
            "Requirement already satisfied, skipping upgrade: uritemplate<4dev,>=3.0.0 in /usr/local/lib/python3.7/dist-packages (from google-api-python-client<2,>=1.7.8->tfx) (3.0.1)\n",
            "Requirement already satisfied, skipping upgrade: google-auth-httplib2>=0.0.3 in /usr/local/lib/python3.7/dist-packages (from google-api-python-client<2,>=1.7.8->tfx) (0.0.4)\n",
            "Requirement already satisfied, skipping upgrade: httplib2<1dev,>=0.15.0 in /usr/local/lib/python3.7/dist-packages (from google-api-python-client<2,>=1.7.8->tfx) (0.17.4)\n",
            "Requirement already satisfied, skipping upgrade: pyparsing>=2.0.2 in /usr/local/lib/python3.7/dist-packages (from packaging<21,>=20->tfx) (2.4.7)\n",
            "Collecting proto-plus>=1.10.0\n",
            "\u001b[?25l  Downloading https://files.pythonhosted.org/packages/b4/8a/61c5a9b9b6288f9b060b6e3d88374fc083953a29aeac7206616c2d3c9c8e/proto_plus-1.18.1-py3-none-any.whl (42kB)\n",
            "\u001b[K     |████████████████████████████████| 51kB 8.9MB/s \n",
            "\u001b[?25hCollecting google-cloud-core<2.0dev,>=1.4.1\n",
            "  Downloading https://files.pythonhosted.org/packages/ad/fc/6e8c449185cb8862af353c1164100ff75e32d55ba1de3baf9eaa01b7d2a9/google_cloud_core-1.6.0-py2.py3-none-any.whl\n",
            "Collecting google-resumable-media<2.0dev,>=0.6.0\n",
            "\u001b[?25l  Downloading https://files.pythonhosted.org/packages/f9/ad/bc80b0b33ccb5e21375ca1440da9dab99596948d5035e2f597fdcffb31f1/google_resumable_media-1.3.0-py2.py3-none-any.whl (75kB)\n",
            "\u001b[K     |████████████████████████████████| 81kB 11.7MB/s \n",
            "\u001b[?25hRequirement already satisfied, skipping upgrade: ipywidgets<8,>=7 in /usr/local/lib/python3.7/dist-packages (from tensorflow-model-analysis<0.31,>=0.30->tfx) (7.6.3)\n",
            "Collecting ipython<8,>=7\n",
            "\u001b[?25l  Downloading https://files.pythonhosted.org/packages/81/d1/8d0ba7589ea4cbf3e80ef8e20616da2cfc3c33187a64b044372aad517512/ipython-7.23.1-py3-none-any.whl (785kB)\n",
            "\u001b[K     |████████████████████████████████| 788kB 43.7MB/s \n",
            "\u001b[?25hRequirement already satisfied, skipping upgrade: typing-extensions~=3.7.4 in /usr/local/lib/python3.7/dist-packages (from tensorflow!=2.0.*,!=2.1.*,!=2.2.*,!=2.3.*,!=2.5.*,<3,>=1.15.2->tfx) (3.7.4.3)\n",
            "Requirement already satisfied, skipping upgrade: h5py~=2.10.0 in /usr/local/lib/python3.7/dist-packages (from tensorflow!=2.0.*,!=2.1.*,!=2.2.*,!=2.3.*,!=2.5.*,<3,>=1.15.2->tfx) (2.10.0)\n",
            "Requirement already satisfied, skipping upgrade: flatbuffers~=1.12.0 in /usr/local/lib/python3.7/dist-packages (from tensorflow!=2.0.*,!=2.1.*,!=2.2.*,!=2.3.*,!=2.5.*,<3,>=1.15.2->tfx) (1.12)\n",
            "Requirement already satisfied, skipping upgrade: tensorboard~=2.4 in /usr/local/lib/python3.7/dist-packages (from tensorflow!=2.0.*,!=2.1.*,!=2.2.*,!=2.3.*,!=2.5.*,<3,>=1.15.2->tfx) (2.4.1)\n",
            "Requirement already satisfied, skipping upgrade: wheel~=0.35 in /usr/local/lib/python3.7/dist-packages (from tensorflow!=2.0.*,!=2.1.*,!=2.2.*,!=2.3.*,!=2.5.*,<3,>=1.15.2->tfx) (0.36.2)\n",
            "Requirement already satisfied, skipping upgrade: google-pasta~=0.2 in /usr/local/lib/python3.7/dist-packages (from tensorflow!=2.0.*,!=2.1.*,!=2.2.*,!=2.3.*,!=2.5.*,<3,>=1.15.2->tfx) (0.2.0)\n",
            "Requirement already satisfied, skipping upgrade: keras-preprocessing~=1.1.2 in /usr/local/lib/python3.7/dist-packages (from tensorflow!=2.0.*,!=2.1.*,!=2.2.*,!=2.3.*,!=2.5.*,<3,>=1.15.2->tfx) (1.1.2)\n",
            "Requirement already satisfied, skipping upgrade: termcolor~=1.1.0 in /usr/local/lib/python3.7/dist-packages (from tensorflow!=2.0.*,!=2.1.*,!=2.2.*,!=2.3.*,!=2.5.*,<3,>=1.15.2->tfx) (1.1.0)\n",
            "Requirement already satisfied, skipping upgrade: astunparse~=1.6.3 in /usr/local/lib/python3.7/dist-packages (from tensorflow!=2.0.*,!=2.1.*,!=2.2.*,!=2.3.*,!=2.5.*,<3,>=1.15.2->tfx) (1.6.3)\n",
            "Requirement already satisfied, skipping upgrade: wrapt~=1.12.1 in /usr/local/lib/python3.7/dist-packages (from tensorflow!=2.0.*,!=2.1.*,!=2.2.*,!=2.3.*,!=2.5.*,<3,>=1.15.2->tfx) (1.12.1)\n",
            "Requirement already satisfied, skipping upgrade: gast==0.3.3 in /usr/local/lib/python3.7/dist-packages (from tensorflow!=2.0.*,!=2.1.*,!=2.2.*,!=2.3.*,!=2.5.*,<3,>=1.15.2->tfx) (0.3.3)\n",
            "Requirement already satisfied, skipping upgrade: opt-einsum~=3.3.0 in /usr/local/lib/python3.7/dist-packages (from tensorflow!=2.0.*,!=2.1.*,!=2.2.*,!=2.3.*,!=2.5.*,<3,>=1.15.2->tfx) (3.3.0)\n",
            "Requirement already satisfied, skipping upgrade: tensorflow-estimator<2.5.0,>=2.4.0 in /usr/local/lib/python3.7/dist-packages (from tensorflow!=2.0.*,!=2.1.*,!=2.2.*,!=2.3.*,!=2.5.*,<3,>=1.15.2->tfx) (2.4.0)\n",
            "Collecting avro-python3!=1.9.2,<1.10.0,>=1.8.1\n",
            "  Downloading https://files.pythonhosted.org/packages/5a/80/acd1455bea0a9fcdc60a748a97dcbb3ff624726fb90987a0fc1c19e7a5a5/avro-python3-1.9.2.1.tar.gz\n",
            "Requirement already satisfied, skipping upgrade: pytz>=2018.3 in /usr/local/lib/python3.7/dist-packages (from apache-beam[gcp]<3,>=2.28->tfx) (2018.9)\n",
            "Requirement already satisfied, skipping upgrade: oauth2client<5,>=2.0.1 in /usr/local/lib/python3.7/dist-packages (from apache-beam[gcp]<3,>=2.28->tfx) (4.1.3)\n",
            "Requirement already satisfied, skipping upgrade: pymongo<4.0.0,>=3.8.0 in /usr/local/lib/python3.7/dist-packages (from apache-beam[gcp]<3,>=2.28->tfx) (3.11.4)\n",
            "Collecting hdfs<3.0.0,>=2.1.0\n",
            "  Downloading https://files.pythonhosted.org/packages/08/f7/4c3fad73123a24d7394b6f40d1ec9c1cbf2e921cfea1797216ffd0a51fb1/hdfs-2.6.0-py3-none-any.whl\n",
            "Collecting dill<0.3.2,>=0.3.1.1\n",
            "\u001b[?25l  Downloading https://files.pythonhosted.org/packages/c7/11/345f3173809cea7f1a193bfbf02403fff250a3360e0e118a1630985e547d/dill-0.3.1.1.tar.gz (151kB)\n",
            "\u001b[K     |████████████████████████████████| 153kB 54.8MB/s \n",
            "\u001b[?25hRequirement already satisfied, skipping upgrade: crcmod<2.0,>=1.7 in /usr/local/lib/python3.7/dist-packages (from apache-beam[gcp]<3,>=2.28->tfx) (1.7)\n",
            "Collecting fastavro<2,>=0.21.4\n",
            "\u001b[?25l  Downloading https://files.pythonhosted.org/packages/52/d1/8f5c8611026f0ddcd86a8e2f965998e0c159af980c31efba72342c69f3e4/fastavro-1.4.1-cp37-cp37m-manylinux_2_17_x86_64.manylinux2014_x86_64.whl (2.2MB)\n",
            "\u001b[K     |████████████████████████████████| 2.3MB 39.6MB/s \n",
            "\u001b[?25hCollecting google-cloud-bigtable<2,>=0.31.1; extra == \"gcp\"\n",
            "\u001b[?25l  Downloading https://files.pythonhosted.org/packages/2a/17/536768bada8f93f124826b36dbdcdf08edd0e5ef0ca76b4c911f9f28596a/google_cloud_bigtable-1.7.0-py2.py3-none-any.whl (267kB)\n",
            "\u001b[K     |████████████████████████████████| 276kB 56.3MB/s \n",
            "\u001b[?25hCollecting google-apitools<0.5.32,>=0.5.31; extra == \"gcp\"\n",
            "\u001b[?25l  Downloading https://files.pythonhosted.org/packages/19/da/aefc4cf4c168b5d875344cd9dddc77e3a2d11986b630251af5ce47dd2843/google-apitools-0.5.31.tar.gz (173kB)\n",
            "\u001b[K     |████████████████████████████████| 174kB 52.2MB/s \n",
            "\u001b[?25hCollecting grpcio-gcp<1,>=0.2.2; extra == \"gcp\"\n",
            "  Downloading https://files.pythonhosted.org/packages/ba/83/1f1095815be0de19102df41e250ebbd7dae97d7d14e22c18da07ed5ed9d4/grpcio_gcp-0.2.2-py2.py3-none-any.whl\n",
            "Collecting google-cloud-videointelligence<2,>=1.8.0; extra == \"gcp\"\n",
            "\u001b[?25l  Downloading https://files.pythonhosted.org/packages/e1/29/8d06211102c87768dc34943d9c92abd8b67491ffedd6d09b56305b1ab255/google_cloud_videointelligence-1.16.1-py2.py3-none-any.whl (183kB)\n",
            "\u001b[K     |████████████████████████████████| 184kB 50.9MB/s \n",
            "\u001b[?25hRequirement already satisfied, skipping upgrade: google-cloud-datastore<2,>=1.7.1; extra == \"gcp\" in /usr/local/lib/python3.7/dist-packages (from apache-beam[gcp]<3,>=2.28->tfx) (1.8.0)\n",
            "Collecting google-cloud-spanner<2,>=1.13.0; extra == \"gcp\"\n",
            "\u001b[?25l  Downloading https://files.pythonhosted.org/packages/98/16/c9262ca40f3a278f38df9d21dece1ae01ee24f8ed29937bd1f066f908f9f/google_cloud_spanner-1.19.1-py2.py3-none-any.whl (255kB)\n",
            "\u001b[K     |████████████████████████████████| 256kB 56.3MB/s \n",
            "\u001b[?25hCollecting google-cloud-language<2,>=1.3.0; extra == \"gcp\"\n",
            "\u001b[?25l  Downloading https://files.pythonhosted.org/packages/ba/b8/965a97ba60287910d342623da1da615254bded3e0965728cf7fc6339b7c8/google_cloud_language-1.3.0-py2.py3-none-any.whl (83kB)\n",
            "\u001b[K     |████████████████████████████████| 92kB 11.5MB/s \n",
            "\u001b[?25hCollecting google-cloud-dlp<2,>=0.12.0; extra == \"gcp\"\n",
            "\u001b[?25l  Downloading https://files.pythonhosted.org/packages/9b/c3/5b73c15f59207b20df288573c2ea203c7b126df8330add380d8b50bc0d5c/google_cloud_dlp-1.0.0-py2.py3-none-any.whl (169kB)\n",
            "\u001b[K     |████████████████████████████████| 174kB 56.2MB/s \n",
            "\u001b[?25hRequirement already satisfied, skipping upgrade: cachetools<5,>=3.1.0; extra == \"gcp\" in /usr/local/lib/python3.7/dist-packages (from apache-beam[gcp]<3,>=2.28->tfx) (4.2.2)\n",
            "Collecting google-cloud-pubsub<2,>=0.39.0; extra == \"gcp\"\n",
            "\u001b[?25l  Downloading https://files.pythonhosted.org/packages/1f/b3/dd83eca4cd1019d592e82595ea45d53f11e39db4ee99daa66ceb8a1b2d89/google_cloud_pubsub-1.7.0-py2.py3-none-any.whl (144kB)\n",
            "\u001b[K     |████████████████████████████████| 153kB 51.8MB/s \n",
            "\u001b[?25hCollecting google-cloud-vision<2,>=0.38.0; extra == \"gcp\"\n",
            "\u001b[?25l  Downloading https://files.pythonhosted.org/packages/0d/7f/e10d602c2dc3f749f1b78377a3357790f1da71b28e7da9e5bc20b3a9bd40/google_cloud_vision-1.0.0-py2.py3-none-any.whl (435kB)\n",
            "\u001b[K     |████████████████████████████████| 440kB 49.3MB/s \n",
            "\u001b[?25hCollecting google-cloud-storage<2.0.0dev,>=1.26.0\n",
            "\u001b[?25l  Downloading https://files.pythonhosted.org/packages/12/75/78ed0d1ef691592b94e7a3d9f58153298166486342a97df82d3c5b66cc16/google_cloud_storage-1.38.0-py2.py3-none-any.whl (103kB)\n",
            "\u001b[K     |████████████████████████████████| 112kB 59.7MB/s \n",
            "\u001b[?25hRequirement already satisfied, skipping upgrade: rsa<5,>=3.1.4; python_version >= \"3.6\" in /usr/local/lib/python3.7/dist-packages (from google-auth>=1.0.1->kubernetes<12,>=10.0.1->tfx) (4.7.2)\n",
            "Requirement already satisfied, skipping upgrade: pyasn1-modules>=0.2.1 in /usr/local/lib/python3.7/dist-packages (from google-auth>=1.0.1->kubernetes<12,>=10.0.1->tfx) (0.2.8)\n",
            "Requirement already satisfied, skipping upgrade: idna<3,>=2.5 in /usr/local/lib/python3.7/dist-packages (from requests->kubernetes<12,>=10.0.1->tfx) (2.10)\n",
            "Requirement already satisfied, skipping upgrade: chardet<4,>=3.0.2 in /usr/local/lib/python3.7/dist-packages (from requests->kubernetes<12,>=10.0.1->tfx) (3.0.4)\n",
            "Requirement already satisfied, skipping upgrade: oauthlib>=3.0.0 in /usr/local/lib/python3.7/dist-packages (from requests-oauthlib->kubernetes<12,>=10.0.1->tfx) (3.1.0)\n",
            "Requirement already satisfied, skipping upgrade: googleapis-common-protos<2,>=1.52.0 in /usr/local/lib/python3.7/dist-packages (from tensorflow-metadata<0.31,>=0.30->tensorflow-transform<0.31,>=0.30->tfx) (1.53.0)\n",
            "Collecting google-crc32c<2.0dev,>=1.0; python_version >= \"3.5\"\n",
            "  Downloading https://files.pythonhosted.org/packages/fc/ae/b6efa1019e18c6c791f0f5cd93b2ff40f8f06696dbf04db39ec0f5591b1e/google_crc32c-1.1.2-cp37-cp37m-manylinux2014_x86_64.whl\n",
            "Requirement already satisfied, skipping upgrade: widgetsnbextension~=3.5.0 in /usr/local/lib/python3.7/dist-packages (from ipywidgets<8,>=7->tensorflow-model-analysis<0.31,>=0.30->tfx) (3.5.1)\n",
            "Requirement already satisfied, skipping upgrade: traitlets>=4.3.1 in /usr/local/lib/python3.7/dist-packages (from ipywidgets<8,>=7->tensorflow-model-analysis<0.31,>=0.30->tfx) (5.0.5)\n",
            "Requirement already satisfied, skipping upgrade: ipykernel>=4.5.1 in /usr/local/lib/python3.7/dist-packages (from ipywidgets<8,>=7->tensorflow-model-analysis<0.31,>=0.30->tfx) (4.10.1)\n",
            "Requirement already satisfied, skipping upgrade: jupyterlab-widgets>=1.0.0; python_version >= \"3.6\" in /usr/local/lib/python3.7/dist-packages (from ipywidgets<8,>=7->tensorflow-model-analysis<0.31,>=0.30->tfx) (1.0.0)\n",
            "Requirement already satisfied, skipping upgrade: nbformat>=4.2.0 in /usr/local/lib/python3.7/dist-packages (from ipywidgets<8,>=7->tensorflow-model-analysis<0.31,>=0.30->tfx) (5.1.3)\n",
            "Requirement already satisfied, skipping upgrade: decorator in /usr/local/lib/python3.7/dist-packages (from ipython<8,>=7->tensorflow-model-analysis<0.31,>=0.30->tfx) (4.4.2)\n",
            "Requirement already satisfied, skipping upgrade: pygments in /usr/local/lib/python3.7/dist-packages (from ipython<8,>=7->tensorflow-model-analysis<0.31,>=0.30->tfx) (2.6.1)\n",
            "Requirement already satisfied, skipping upgrade: backcall in /usr/local/lib/python3.7/dist-packages (from ipython<8,>=7->tensorflow-model-analysis<0.31,>=0.30->tfx) (0.2.0)\n",
            "Requirement already satisfied, skipping upgrade: jedi>=0.16 in /usr/local/lib/python3.7/dist-packages (from ipython<8,>=7->tensorflow-model-analysis<0.31,>=0.30->tfx) (0.18.0)\n",
            "Requirement already satisfied, skipping upgrade: matplotlib-inline in /usr/local/lib/python3.7/dist-packages (from ipython<8,>=7->tensorflow-model-analysis<0.31,>=0.30->tfx) (0.1.2)\n",
            "Requirement already satisfied, skipping upgrade: pickleshare in /usr/local/lib/python3.7/dist-packages (from ipython<8,>=7->tensorflow-model-analysis<0.31,>=0.30->tfx) (0.7.5)\n",
            "Requirement already satisfied, skipping upgrade: pexpect>4.3; sys_platform != \"win32\" in /usr/local/lib/python3.7/dist-packages (from ipython<8,>=7->tensorflow-model-analysis<0.31,>=0.30->tfx) (4.8.0)\n",
            "Collecting prompt-toolkit!=3.0.0,!=3.0.1,<3.1.0,>=2.0.0\n",
            "\u001b[?25l  Downloading https://files.pythonhosted.org/packages/eb/e6/4b4ca4fa94462d4560ba2f4e62e62108ab07be2e16a92e594e43b12d3300/prompt_toolkit-3.0.18-py3-none-any.whl (367kB)\n",
            "\u001b[K     |████████████████████████████████| 368kB 51.7MB/s \n",
            "\u001b[?25hRequirement already satisfied, skipping upgrade: werkzeug>=0.11.15 in /usr/local/lib/python3.7/dist-packages (from tensorboard~=2.4->tensorflow!=2.0.*,!=2.1.*,!=2.2.*,!=2.3.*,!=2.5.*,<3,>=1.15.2->tfx) (2.0.0)\n",
            "Requirement already satisfied, skipping upgrade: google-auth-oauthlib<0.5,>=0.4.1 in /usr/local/lib/python3.7/dist-packages (from tensorboard~=2.4->tensorflow!=2.0.*,!=2.1.*,!=2.2.*,!=2.3.*,!=2.5.*,<3,>=1.15.2->tfx) (0.4.4)\n",
            "Requirement already satisfied, skipping upgrade: tensorboard-plugin-wit>=1.6.0 in /usr/local/lib/python3.7/dist-packages (from tensorboard~=2.4->tensorflow!=2.0.*,!=2.1.*,!=2.2.*,!=2.3.*,!=2.5.*,<3,>=1.15.2->tfx) (1.8.0)\n",
            "Requirement already satisfied, skipping upgrade: markdown>=2.6.8 in /usr/local/lib/python3.7/dist-packages (from tensorboard~=2.4->tensorflow!=2.0.*,!=2.1.*,!=2.2.*,!=2.3.*,!=2.5.*,<3,>=1.15.2->tfx) (3.3.4)\n",
            "Requirement already satisfied, skipping upgrade: pyasn1>=0.1.7 in /usr/local/lib/python3.7/dist-packages (from oauth2client<5,>=2.0.1->apache-beam[gcp]<3,>=2.28->tfx) (0.4.8)\n",
            "Requirement already satisfied, skipping upgrade: docopt in /usr/local/lib/python3.7/dist-packages (from hdfs<3.0.0,>=2.1.0->apache-beam[gcp]<3,>=2.28->tfx) (0.6.2)\n",
            "Collecting grpc-google-iam-v1<0.13dev,>=0.12.3\n",
            "  Downloading https://files.pythonhosted.org/packages/65/19/2060c8faa325fddc09aa67af98ffcb6813f39a0ad805679fa64815362b3a/grpc-google-iam-v1-0.12.3.tar.gz\n",
            "Collecting fasteners>=0.14\n",
            "  Downloading https://files.pythonhosted.org/packages/78/20/c862d765287e9e8b29f826749ebae8775bdca50b2cb2ca079346d5fbfd76/fasteners-0.16-py2.py3-none-any.whl\n",
            "Requirement already satisfied, skipping upgrade: cffi>=1.0.0 in /usr/local/lib/python3.7/dist-packages (from google-crc32c<2.0dev,>=1.0; python_version >= \"3.5\"->google-resumable-media<2.0dev,>=0.6.0->google-cloud-bigquery<3,>=1.28.0->tfx) (1.14.5)\n",
            "Requirement already satisfied, skipping upgrade: notebook>=4.4.1 in /usr/local/lib/python3.7/dist-packages (from widgetsnbextension~=3.5.0->ipywidgets<8,>=7->tensorflow-model-analysis<0.31,>=0.30->tfx) (5.3.1)\n",
            "Requirement already satisfied, skipping upgrade: ipython-genutils in /usr/local/lib/python3.7/dist-packages (from traitlets>=4.3.1->ipywidgets<8,>=7->tensorflow-model-analysis<0.31,>=0.30->tfx) (0.2.0)\n",
            "Requirement already satisfied, skipping upgrade: jupyter-client in /usr/local/lib/python3.7/dist-packages (from ipykernel>=4.5.1->ipywidgets<8,>=7->tensorflow-model-analysis<0.31,>=0.30->tfx) (5.3.5)\n",
            "Requirement already satisfied, skipping upgrade: tornado>=4.0 in /usr/local/lib/python3.7/dist-packages (from ipykernel>=4.5.1->ipywidgets<8,>=7->tensorflow-model-analysis<0.31,>=0.30->tfx) (5.1.1)\n",
            "Requirement already satisfied, skipping upgrade: jsonschema!=2.5.0,>=2.4 in /usr/local/lib/python3.7/dist-packages (from nbformat>=4.2.0->ipywidgets<8,>=7->tensorflow-model-analysis<0.31,>=0.30->tfx) (2.6.0)\n",
            "Requirement already satisfied, skipping upgrade: jupyter-core in /usr/local/lib/python3.7/dist-packages (from nbformat>=4.2.0->ipywidgets<8,>=7->tensorflow-model-analysis<0.31,>=0.30->tfx) (4.7.1)\n",
            "Requirement already satisfied, skipping upgrade: parso<0.9.0,>=0.8.0 in /usr/local/lib/python3.7/dist-packages (from jedi>=0.16->ipython<8,>=7->tensorflow-model-analysis<0.31,>=0.30->tfx) (0.8.2)\n",
            "Requirement already satisfied, skipping upgrade: ptyprocess>=0.5 in /usr/local/lib/python3.7/dist-packages (from pexpect>4.3; sys_platform != \"win32\"->ipython<8,>=7->tensorflow-model-analysis<0.31,>=0.30->tfx) (0.7.0)\n",
            "Requirement already satisfied, skipping upgrade: wcwidth in /usr/local/lib/python3.7/dist-packages (from prompt-toolkit!=3.0.0,!=3.0.1,<3.1.0,>=2.0.0->ipython<8,>=7->tensorflow-model-analysis<0.31,>=0.30->tfx) (0.2.5)\n",
            "Requirement already satisfied, skipping upgrade: importlib-metadata; python_version < \"3.8\" in /usr/local/lib/python3.7/dist-packages (from markdown>=2.6.8->tensorboard~=2.4->tensorflow!=2.0.*,!=2.1.*,!=2.2.*,!=2.3.*,!=2.5.*,<3,>=1.15.2->tfx) (4.0.1)\n",
            "Requirement already satisfied, skipping upgrade: pycparser in /usr/local/lib/python3.7/dist-packages (from cffi>=1.0.0->google-crc32c<2.0dev,>=1.0; python_version >= \"3.5\"->google-resumable-media<2.0dev,>=0.6.0->google-cloud-bigquery<3,>=1.28.0->tfx) (2.20)\n",
            "Requirement already satisfied, skipping upgrade: nbconvert in /usr/local/lib/python3.7/dist-packages (from notebook>=4.4.1->widgetsnbextension~=3.5.0->ipywidgets<8,>=7->tensorflow-model-analysis<0.31,>=0.30->tfx) (5.6.1)\n",
            "Requirement already satisfied, skipping upgrade: terminado>=0.8.1 in /usr/local/lib/python3.7/dist-packages (from notebook>=4.4.1->widgetsnbextension~=3.5.0->ipywidgets<8,>=7->tensorflow-model-analysis<0.31,>=0.30->tfx) (0.9.5)\n",
            "Requirement already satisfied, skipping upgrade: Send2Trash in /usr/local/lib/python3.7/dist-packages (from notebook>=4.4.1->widgetsnbextension~=3.5.0->ipywidgets<8,>=7->tensorflow-model-analysis<0.31,>=0.30->tfx) (1.5.0)\n",
            "Requirement already satisfied, skipping upgrade: pyzmq>=13 in /usr/local/lib/python3.7/dist-packages (from jupyter-client->ipykernel>=4.5.1->ipywidgets<8,>=7->tensorflow-model-analysis<0.31,>=0.30->tfx) (22.0.3)\n",
            "Requirement already satisfied, skipping upgrade: zipp>=0.5 in /usr/local/lib/python3.7/dist-packages (from importlib-metadata; python_version < \"3.8\"->markdown>=2.6.8->tensorboard~=2.4->tensorflow!=2.0.*,!=2.1.*,!=2.2.*,!=2.3.*,!=2.5.*,<3,>=1.15.2->tfx) (3.4.1)\n",
            "Requirement already satisfied, skipping upgrade: entrypoints>=0.2.2 in /usr/local/lib/python3.7/dist-packages (from nbconvert->notebook>=4.4.1->widgetsnbextension~=3.5.0->ipywidgets<8,>=7->tensorflow-model-analysis<0.31,>=0.30->tfx) (0.3)\n",
            "Requirement already satisfied, skipping upgrade: pandocfilters>=1.4.1 in /usr/local/lib/python3.7/dist-packages (from nbconvert->notebook>=4.4.1->widgetsnbextension~=3.5.0->ipywidgets<8,>=7->tensorflow-model-analysis<0.31,>=0.30->tfx) (1.4.3)\n",
            "Requirement already satisfied, skipping upgrade: bleach in /usr/local/lib/python3.7/dist-packages (from nbconvert->notebook>=4.4.1->widgetsnbextension~=3.5.0->ipywidgets<8,>=7->tensorflow-model-analysis<0.31,>=0.30->tfx) (3.3.0)\n",
            "Requirement already satisfied, skipping upgrade: testpath in /usr/local/lib/python3.7/dist-packages (from nbconvert->notebook>=4.4.1->widgetsnbextension~=3.5.0->ipywidgets<8,>=7->tensorflow-model-analysis<0.31,>=0.30->tfx) (0.4.4)\n",
            "Requirement already satisfied, skipping upgrade: mistune<2,>=0.8.1 in /usr/local/lib/python3.7/dist-packages (from nbconvert->notebook>=4.4.1->widgetsnbextension~=3.5.0->ipywidgets<8,>=7->tensorflow-model-analysis<0.31,>=0.30->tfx) (0.8.4)\n",
            "Requirement already satisfied, skipping upgrade: defusedxml in /usr/local/lib/python3.7/dist-packages (from nbconvert->notebook>=4.4.1->widgetsnbextension~=3.5.0->ipywidgets<8,>=7->tensorflow-model-analysis<0.31,>=0.30->tfx) (0.7.1)\n",
            "Requirement already satisfied, skipping upgrade: webencodings in /usr/local/lib/python3.7/dist-packages (from bleach->nbconvert->notebook>=4.4.1->widgetsnbextension~=3.5.0->ipywidgets<8,>=7->tensorflow-model-analysis<0.31,>=0.30->tfx) (0.5.1)\n",
            "Building wheels for collected packages: keras-tuner, terminaltables, avro-python3, dill, google-apitools, grpc-google-iam-v1\n",
            "  Building wheel for keras-tuner (setup.py) ... \u001b[?25l\u001b[?25hdone\n",
            "  Created wheel for keras-tuner: filename=keras_tuner-1.0.1-cp37-none-any.whl size=73200 sha256=352289b924bed56cc3c4c0f4ceba68346f7ec2b8ed1cb40454dae253d92ad8be\n",
            "  Stored in directory: /root/.cache/pip/wheels/b9/cc/62/52716b70dd90f3db12519233c3a93a5360bc672da1a10ded43\n",
            "  Building wheel for terminaltables (setup.py) ... \u001b[?25l\u001b[?25hdone\n",
            "  Created wheel for terminaltables: filename=terminaltables-3.1.0-cp37-none-any.whl size=15356 sha256=6077755500590732e9e90b7114439edd816cfb186b96df23e5c2f023dca9a745\n",
            "  Stored in directory: /root/.cache/pip/wheels/30/6b/50/6c75775b681fb36cdfac7f19799888ef9d8813aff9e379663e\n",
            "  Building wheel for avro-python3 (setup.py) ... \u001b[?25l\u001b[?25hdone\n",
            "  Created wheel for avro-python3: filename=avro_python3-1.9.2.1-cp37-none-any.whl size=43516 sha256=e5a17ae5ee181905a8c1ddfd07d4b85defc26e8b2599b841854b2404b9d0b881\n",
            "  Stored in directory: /root/.cache/pip/wheels/5a/d3/be/86620c9dd3fca68986c33b9c616510289fc0abb81ec9aa70bd\n",
            "  Building wheel for dill (setup.py) ... \u001b[?25l\u001b[?25hdone\n",
            "  Created wheel for dill: filename=dill-0.3.1.1-cp37-none-any.whl size=78532 sha256=cf417f41742e1f587d181ea9982f4de37e977524c79d0af8163e5cc4e02ec301\n",
            "  Stored in directory: /root/.cache/pip/wheels/59/b1/91/f02e76c732915c4015ab4010f3015469866c1eb9b14058d8e7\n",
            "  Building wheel for google-apitools (setup.py) ... \u001b[?25l\u001b[?25hdone\n",
            "  Created wheel for google-apitools: filename=google_apitools-0.5.31-cp37-none-any.whl size=131043 sha256=68e7831ba663772f5fabf98bd1a19281830aad1974a8a0d8ddaf496f72576a61\n",
            "  Stored in directory: /root/.cache/pip/wheels/3b/43/31/09a9dad88d3aec6fed2d63bd35dfc532fca372e2edec5af5bf\n",
            "  Building wheel for grpc-google-iam-v1 (setup.py) ... \u001b[?25l\u001b[?25hdone\n",
            "  Created wheel for grpc-google-iam-v1: filename=grpc_google_iam_v1-0.12.3-cp37-none-any.whl size=18500 sha256=9d4e42d97842190a0c28da78f1995f920ffcdc9f79fe80cc392b909f5a203ac2\n",
            "  Stored in directory: /root/.cache/pip/wheels/de/3a/83/77a1e18e1a8757186df834b86ce6800120ac9c79cd8ca4091b\n",
            "Successfully built keras-tuner terminaltables avro-python3 dill google-apitools grpc-google-iam-v1\n",
            "\u001b[31mERROR: pandas-gbq 0.13.3 has requirement google-cloud-bigquery[bqstorage,pandas]<2.0.0dev,>=1.11.1, but you'll have google-cloud-bigquery 2.17.0 which is incompatible.\u001b[0m\n",
            "\u001b[31mERROR: multiprocess 0.70.11.1 has requirement dill>=0.3.3, but you'll have dill 0.3.1.1 which is incompatible.\u001b[0m\n",
            "\u001b[31mERROR: jupyter-console 5.2.0 has requirement prompt-toolkit<2.0.0,>=1.0.0, but you'll have prompt-toolkit 3.0.18 which is incompatible.\u001b[0m\n",
            "\u001b[31mERROR: google-colab 1.0.0 has requirement ipython~=5.5.0, but you'll have ipython 7.23.1 which is incompatible.\u001b[0m\n",
            "\u001b[31mERROR: datascience 0.10.6 has requirement folium==0.2.1, but you'll have folium 0.8.3 which is incompatible.\u001b[0m\n",
            "\u001b[31mERROR: apache-beam 2.29.0 has requirement future<1.0.0,>=0.18.2, but you'll have future 0.16.0 which is incompatible.\u001b[0m\n",
            "\u001b[31mERROR: apache-beam 2.29.0 has requirement requests<3.0.0,>=2.24.0, but you'll have requests 2.23.0 which is incompatible.\u001b[0m\n",
            "Installing collected packages: attrs, ml-metadata, tensorflow-serving-api, websocket-client, kubernetes, pyarrow, avro-python3, hdfs, dill, fastavro, google-cloud-core, grpc-google-iam-v1, google-cloud-bigtable, fasteners, google-apitools, grpcio-gcp, google-cloud-videointelligence, google-cloud-spanner, google-cloud-language, google-cloud-dlp, google-cloud-pubsub, google-cloud-vision, proto-plus, google-crc32c, google-resumable-media, google-cloud-bigquery, apache-beam, tfx-bsl, tensorflow-transform, tensorflow-hub, docker, ml-pipelines-sdk, terminaltables, colorama, keras-tuner, click, joblib, tensorflow-data-validation, prompt-toolkit, ipython, tensorflow-model-analysis, google-cloud-storage, google-cloud-aiplatform, tfx\n",
            "  Found existing installation: attrs 21.2.0\n",
            "    Uninstalling attrs-21.2.0:\n",
            "      Successfully uninstalled attrs-21.2.0\n",
            "  Found existing installation: pyarrow 3.0.0\n",
            "    Uninstalling pyarrow-3.0.0:\n",
            "      Successfully uninstalled pyarrow-3.0.0\n",
            "  Found existing installation: dill 0.3.3\n",
            "    Uninstalling dill-0.3.3:\n",
            "      Successfully uninstalled dill-0.3.3\n",
            "  Found existing installation: google-cloud-core 1.0.3\n",
            "    Uninstalling google-cloud-core-1.0.3:\n",
            "      Successfully uninstalled google-cloud-core-1.0.3\n",
            "  Found existing installation: google-cloud-language 1.2.0\n",
            "    Uninstalling google-cloud-language-1.2.0:\n",
            "      Successfully uninstalled google-cloud-language-1.2.0\n",
            "  Found existing installation: google-resumable-media 0.4.1\n",
            "    Uninstalling google-resumable-media-0.4.1:\n",
            "      Successfully uninstalled google-resumable-media-0.4.1\n",
            "  Found existing installation: google-cloud-bigquery 1.21.0\n",
            "    Uninstalling google-cloud-bigquery-1.21.0:\n",
            "      Successfully uninstalled google-cloud-bigquery-1.21.0\n",
            "  Found existing installation: tensorflow-hub 0.12.0\n",
            "    Uninstalling tensorflow-hub-0.12.0:\n",
            "      Successfully uninstalled tensorflow-hub-0.12.0\n",
            "  Found existing installation: click 8.0.0\n",
            "    Uninstalling click-8.0.0:\n",
            "      Successfully uninstalled click-8.0.0\n",
            "  Found existing installation: joblib 1.0.1\n",
            "    Uninstalling joblib-1.0.1:\n",
            "      Successfully uninstalled joblib-1.0.1\n",
            "  Found existing installation: prompt-toolkit 1.0.18\n",
            "    Uninstalling prompt-toolkit-1.0.18:\n",
            "      Successfully uninstalled prompt-toolkit-1.0.18\n",
            "  Found existing installation: ipython 5.5.0\n",
            "    Uninstalling ipython-5.5.0:\n",
            "      Successfully uninstalled ipython-5.5.0\n",
            "  Found existing installation: google-cloud-storage 1.18.1\n",
            "    Uninstalling google-cloud-storage-1.18.1:\n",
            "      Successfully uninstalled google-cloud-storage-1.18.1\n",
            "Successfully installed apache-beam-2.29.0 attrs-20.3.0 avro-python3-1.9.2.1 click-7.1.2 colorama-0.4.4 dill-0.3.1.1 docker-4.4.4 fastavro-1.4.1 fasteners-0.16 google-apitools-0.5.31 google-cloud-aiplatform-0.7.1 google-cloud-bigquery-2.17.0 google-cloud-bigtable-1.7.0 google-cloud-core-1.6.0 google-cloud-dlp-1.0.0 google-cloud-language-1.3.0 google-cloud-pubsub-1.7.0 google-cloud-spanner-1.19.1 google-cloud-storage-1.38.0 google-cloud-videointelligence-1.16.1 google-cloud-vision-1.0.0 google-crc32c-1.1.2 google-resumable-media-1.3.0 grpc-google-iam-v1-0.12.3 grpcio-gcp-0.2.2 hdfs-2.6.0 ipython-7.23.1 joblib-0.14.1 keras-tuner-1.0.1 kubernetes-11.0.0 ml-metadata-0.30.0 ml-pipelines-sdk-0.30.0 prompt-toolkit-3.0.18 proto-plus-1.18.1 pyarrow-2.0.0 tensorflow-data-validation-0.30.0 tensorflow-hub-0.9.0 tensorflow-model-analysis-0.30.0 tensorflow-serving-api-2.4.1 tensorflow-transform-0.30.0 terminaltables-3.1.0 tfx-0.30.0 tfx-bsl-0.30.0 websocket-client-1.0.1\n"
          ],
          "name": "stdout"
        },
        {
          "output_type": "display_data",
          "data": {
            "application/vnd.colab-display-data+json": {
              "pip_warning": {
                "packages": [
                  "IPython",
                  "google",
                  "prompt_toolkit"
                ]
              }
            }
          },
          "metadata": {
            "tags": []
          }
        }
      ]
    },
    {
      "cell_type": "code",
      "metadata": {
        "colab": {
          "base_uri": "https://localhost:8080/"
        },
        "id": "8JXXN6jmcqBC",
        "outputId": "d61f6863-7973-4221-e751-4a267fb84378"
      },
      "source": [
        "import os\n",
        "import pprint\n",
        "import tempfile\n",
        "import urllib\n",
        "\n",
        "import absl\n",
        "import tensorflow as tf\n",
        "import tensorflow_model_analysis as tfma\n",
        "\n",
        "tf.get_logger().propagate = False\n",
        "pp = pprint.PrettyPrinter()\n",
        "\n",
        "from tfx import v1 as tfx\n",
        "from tfx.orchestration.experimental.interactive.interactive_context import InteractiveContext\n",
        "\n",
        "%load_ext tfx.orchestration.experimental.interactive.notebook_extensions.skip"
      ],
      "execution_count": 1,
      "outputs": [
        {
          "output_type": "stream",
          "text": [
            "WARNING:absl:RuntimeParameter is only supported on Cloud-based DAG runner currently.\n"
          ],
          "name": "stderr"
        }
      ]
    },
    {
      "cell_type": "code",
      "metadata": {
        "colab": {
          "base_uri": "https://localhost:8080/"
        },
        "id": "dDIhmDNndIZS",
        "outputId": "889e15c8-26a3-4401-d246-22eedeedff24"
      },
      "source": [
        "print('TensorFlow version: {}'.format(tf.__version__))\n",
        "print('TFX version: {}'.format(tfx.__version__))"
      ],
      "execution_count": 2,
      "outputs": [
        {
          "output_type": "stream",
          "text": [
            "TensorFlow version: 2.4.1\n",
            "TFX version: 0.30.0\n"
          ],
          "name": "stdout"
        }
      ]
    },
    {
      "cell_type": "markdown",
      "metadata": {
        "id": "yVi0gBdShDOd"
      },
      "source": [
        "Some setup for storing data and the pipeline itself:"
      ]
    },
    {
      "cell_type": "code",
      "metadata": {
        "id": "kvZuTpL-hHL9"
      },
      "source": [
        "# This is the root directory for your TFX pip package installation.\n",
        "_tfx_root = tfx.__path__[0]\n",
        "\n",
        "# This is the directory containing the TFX Chicago Taxi Pipeline example.\n",
        "_taxi_root = os.path.join(_tfx_root, 'examples/chicago_taxi_pipeline')\n",
        "\n",
        "# This is the path where your model will be pushed for serving.\n",
        "_serving_model_dir = os.path.join(\n",
        "    tempfile.mkdtemp(), 'serving_model/taxi_simple')\n",
        "\n",
        "# Set up logging.\n",
        "absl.logging.set_verbosity(absl.logging.INFO)"
      ],
      "execution_count": null,
      "outputs": []
    },
    {
      "cell_type": "markdown",
      "metadata": {
        "id": "GOhNt9BJheqQ"
      },
      "source": [
        "Load the data:"
      ]
    },
    {
      "cell_type": "code",
      "metadata": {
        "id": "vliL-JDUhgLS"
      },
      "source": [
        "_data_root = tempfile.mkdtemp(prefix='tfx-data')\n",
        "DATA_PATH = 'https://raw.githubusercontent.com/tensorflow/tfx/master/tfx/examples/chicago_taxi_pipeline/data/simple/data.csv'\n",
        "_data_filepath = os.path.join(_data_root, \"data.csv\")\n",
        "urllib.request.urlretrieve(DATA_PATH, _data_filepath)"
      ],
      "execution_count": null,
      "outputs": []
    }
  ]
}